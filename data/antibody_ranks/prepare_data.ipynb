{
 "cells": [
  {
   "cell_type": "code",
   "execution_count": 8,
   "id": "d7391428-f5e4-48a1-a572-22e25bffaf3e",
   "metadata": {},
   "outputs": [],
   "source": [
    "import pandas as pd\n",
    "import random\n",
    "\n",
    "random.seed(42)\n",
    "st = random.getstate()\n",
    "random.setstate(st)"
   ]
  },
  {
   "cell_type": "code",
   "execution_count": 24,
   "id": "a4ffa514-7942-417a-9626-fc2805e3add4",
   "metadata": {},
   "outputs": [],
   "source": [
    "DATA_PATH=\"~/projects/mint/downstream/GeneralPPI/antibodies/antibody_antigen_sequences.parquet\"\n",
    "CSV_PATH=\"~/projects/mint/downstream/GeneralPPI/antibodies/seqs.csv\"\n",
    "TSV_PATH=\"~/projects/mint/downstream/GeneralPPI/antibodies/test.txt\"\n",
    "\n",
    "df = pd.read_parquet(DATA_PATH)"
   ]
  },
  {
   "cell_type": "code",
   "execution_count": 11,
   "id": "87e966ea-8176-4f24-913c-50f4b7ad64de",
   "metadata": {},
   "outputs": [],
   "source": [
    "# Pairing the identifiers\n",
    "\n",
    "negative_pairs = {}\n",
    "\n",
    "for i, ab in enumerate(df[\"Name\"]):\n",
    "    is_valid_negative = False\n",
    "    new_ag = None\n",
    "    while(not is_valid_negative):\n",
    "        new_ag = random.choice(df[\"antigen uniprot id\"])\n",
    "        if(new_ag != df[\"antigen uniprot id\"][i]):\n",
    "            is_valid_negative = True\n",
    "    negative_pairs[ab] = new_ag"
   ]
  },
  {
   "cell_type": "code",
   "execution_count": 12,
   "id": "e838bc97-57e5-486c-9241-0f7add27bc0e",
   "metadata": {},
   "outputs": [],
   "source": [
    "antigen_sequences = {}\n",
    "\n",
    "for i, ag in enumerate(df[\"antigen uniprot id\"]):\n",
    "    antigen_sequences[ag] = df[\"antigen sequence\"][i]"
   ]
  },
  {
   "cell_type": "code",
   "execution_count": 5,
   "id": "1be3f083-30d2-4cf5-8dad-2610d52bc457",
   "metadata": {},
   "outputs": [],
   "source": [
    "antibody_dataset = {\n",
    "    \"seq1id\": [],\n",
    "    \"seq2id\": [],\n",
    "    \"seq1\": [],\n",
    "    \"seq2\": [],\n",
    "    \"labels\": []\n",
    "}\n",
    "\n",
    "for i, ab in enumerate(df[\"Name\"]):\n",
    "    # The positive pair\n",
    "    antibody_dataset[\"seq1id\"].append(ab)\n",
    "    antibody_dataset[\"seq2id\"].append(df[\"antigen uniprot id\"][i])\n",
    "    antibody_dataset[\"seq1\"].append(df[\"Heavy chain full sequence\"][i])\n",
    "    antibody_dataset[\"seq2\"].append(df[\"antigen sequence\"][i])\n",
    "    antibody_dataset[\"labels\"].append(1)\n",
    "    # The negative pair\n",
    "    antibody_dataset[\"seq1id\"].append(ab)\n",
    "    antibody_dataset[\"seq2id\"].append(negative_pairs[ab])\n",
    "    antibody_dataset[\"seq1\"].append(df[\"Heavy chain full sequence\"][i])\n",
    "    antibody_dataset[\"seq2\"].append(antigen_sequences[negative_pairs[ab]])\n",
    "    antibody_dataset[\"labels\"].append(0)"
   ]
  },
  {
   "cell_type": "code",
   "execution_count": 6,
   "id": "185c3c98-07ad-4a1e-ae46-6a33cd110600",
   "metadata": {},
   "outputs": [],
   "source": [
    "full_df = pd.DataFrame.from_dict(antibody_dataset)"
   ]
  },
  {
   "cell_type": "code",
   "execution_count": 8,
   "id": "4cff6b04-a757-482f-acbd-561cabf0b223",
   "metadata": {},
   "outputs": [],
   "source": [
    "csv_df = full_df.copy()"
   ]
  },
  {
   "cell_type": "code",
   "execution_count": 9,
   "id": "417a1eb2-e14a-40b5-adfa-8a8a6f466ccc",
   "metadata": {},
   "outputs": [],
   "source": [
    "csv_df.drop([\"seq1id\", \"seq2id\"], axis=1, inplace=True)\n",
    "csv_df.to_csv(CSV_PATH, index=False)"
   ]
  },
  {
   "cell_type": "code",
   "execution_count": 17,
   "id": "3e25fb0b-50ce-4b5a-a400-359a85ed064b",
   "metadata": {},
   "outputs": [],
   "source": [
    "full_df.rename({\"seq1id\": \"protein1\", \"seq2id\": \"protein2\", \"labels\": \"label\"}, axis=1, inplace=True)\n",
    "full_df.drop([\"seq1\", \"seq2\"], axis=1, inplace=True)"
   ]
  },
  {
   "cell_type": "code",
   "execution_count": 21,
   "id": "f868c04d-1298-415b-ba9b-e0b4bdb757fb",
   "metadata": {},
   "outputs": [],
   "source": [
    "full_df.to_csv(TSV_PATH, sep=\"\\t\", index=False)"
   ]
  },
  {
   "cell_type": "code",
   "execution_count": 34,
   "id": "7317d246-8a79-412a-8445-5b1f70cdc44c",
   "metadata": {},
   "outputs": [],
   "source": [
    "# Ranking set\n",
    "CSV_PATH=\"~/projects/gLM/data/antibodies_rank/seqs.csv\"\n",
    "TSV_PATH=\"~/projects/gLM/data/antibodies_rank/test.txt\"\n",
    "\n",
    "antigen_uniprots = df[\"antigen uniprot id\"].unique()\n",
    "\n",
    "antibody_rank_dataset = {\n",
    "    \"seq1id\": [],\n",
    "    \"seq2id\": [],\n",
    "    \"seq1\": [],\n",
    "    \"seq2\": [],\n",
    "    \"label\": []\n",
    "}\n",
    "\n",
    "for i, ab in enumerate(df[\"Name\"]):\n",
    "    # The positive pair\n",
    "    antibody_rank_dataset[\"seq1id\"].append(ab)\n",
    "    antibody_rank_dataset[\"seq2id\"].append(df[\"antigen uniprot id\"][i])\n",
    "    antibody_rank_dataset[\"seq1\"].append(df[\"Heavy chain full sequence\"][i])\n",
    "    antibody_rank_dataset[\"seq2\"].append(df[\"antigen sequence\"][i])\n",
    "    antibody_rank_dataset[\"label\"].append(1)\n",
    "    for j, ag in enumerate(antigen_uniprots):\n",
    "        if(ag != df[\"antigen uniprot id\"][i]):\n",
    "            # The negative pairs\n",
    "            antibody_rank_dataset[\"seq1id\"].append(ab)\n",
    "            antibody_rank_dataset[\"seq2id\"].append(ag)\n",
    "            antibody_rank_dataset[\"seq1\"].append(df[\"Heavy chain full sequence\"][i])\n",
    "            antibody_rank_dataset[\"seq2\"].append(antigen_sequences[ag])\n",
    "            antibody_rank_dataset[\"label\"].append(0)\n",
    "\n",
    "antibody_rank_dataset_df = pd.DataFrame.from_dict(antibody_rank_dataset)\n",
    "antibody_rank_dataset_csv_df = antibody_rank_dataset_df.copy()\n",
    "antibody_rank_dataset_csv_df.drop([\"seq1id\", \"seq2id\"], axis=1, inplace=True)\n",
    "antibody_rank_dataset_csv_df.to_csv(CSV_PATH, index=False)\n",
    "antibody_rank_dataset_df.rename({\"seq1id\": \"protein1\", \"seq2id\": \"protein2\"}, axis=1, inplace=True)\n",
    "antibody_rank_dataset_df.drop([\"seq1\", \"seq2\"], axis=1, inplace=True)\n",
    "antibody_rank_dataset_df.to_csv(TSV_PATH, sep=\"\\t\", index=False)"
   ]
  }
 ],
 "metadata": {
  "kernelspec": {
   "display_name": "Python [conda env:mambaforge-gLM11]",
   "language": "python",
   "name": "conda-env-mambaforge-gLM11-py"
  },
  "language_info": {
   "codemirror_mode": {
    "name": "ipython",
    "version": 3
   },
   "file_extension": ".py",
   "mimetype": "text/x-python",
   "name": "python",
   "nbconvert_exporter": "python",
   "pygments_lexer": "ipython3",
   "version": "3.11.11"
  }
 },
 "nbformat": 4,
 "nbformat_minor": 5
}
