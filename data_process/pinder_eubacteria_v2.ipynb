{
 "cells": [
  {
   "cell_type": "code",
   "execution_count": 117,
   "id": "8e372a53-282c-4c38-b24b-e96982434ada",
   "metadata": {},
   "outputs": [],
   "source": [
    "import torch\n",
    "from pinder.core import get_index, PinderSystem\n",
    "from pinder.core import PinderLoader\n",
    "from pinder.core.loader import filters\n",
    "from pinder.core.loader import structure\n",
    "from pinder.core.index.system import PinderSystem\n",
    "from pinder.core import get_pinder_location\n",
    "import re\n",
    "import pandas as pd\n",
    "import csv\n",
    "import os\n",
    "import random\n",
    "from Bio import SeqIO\n",
    "from Bio.Seq import Seq\n",
    "from Bio.SeqRecord import SeqRecord\n",
    "from transformers import AutoModel, AutoTokenizer\n",
    "import matplotlib\n",
    "import matplotlib.pyplot as plt\n",
    "import numpy as np\n",
    "from scipy.special import rel_entr\n",
    "\n",
    "TAX_LEVEL=\"species\"\n",
    "\n",
    "HOME=\"/scicore/home/schwede/pudziu0000/\"\n",
    "PINDER_BASE_DIR=\"/scicore/home/schwede/durair0000/.local/share/\"\n",
    "UNIPROT_IDS_PATH=f\"{HOME}/projects/gLM/data/PINDER/uniprot_ids_1024_512.lst\"\n",
    "UNIPROT_LINEAGES_PATH=f\"{HOME}/projects/gLM/data/PINDER/uniprot_lineages_annotations_1024_512.tsv\"\n",
    "SPLITS_DIR=f\"{HOME}/projects/gLM/data/PINDER/eubacteria_5_1024_512_{TAX_LEVEL}/\"\n",
    "SEED=1024\n",
    "\n",
    "random.seed(SEED)\n",
    "\n",
    "def select_ids(max_length=1024, max_length_per_monomer=400):\n",
    "    base_filters = [\n",
    "        filters.FilterByMissingHolo(),\n",
    "        filters.FilterSubByContacts(min_contacts=5, radius=10.0, calpha_only=True),\n",
    "        filters.FilterDetachedHolo(radius=12, max_components=2),\n",
    "    ]\n",
    "    sub_filters = [\n",
    "        filters.FilterSubByAtomTypes(min_atom_types=4),\n",
    "        filters.FilterByHoloOverlap(min_overlap=5),\n",
    "        filters.FilterByHoloSeqIdentity(min_sequence_identity=0.8),\n",
    "        filters.FilterSubRmsds(rmsd_cutoff=7.5),\n",
    "        filters.FilterDetachedSub(radius=12, max_components=2),\n",
    "    ]\n",
    "    split_pinder_ids = {}\n",
    "    split_uniprot_ids = {}\n",
    "    train_index = None\n",
    "    for split in [\"train\", \"val\", \"test\"]:\n",
    "        loader = PinderLoader(\n",
    "            split=split,\n",
    "            monomer_priority=\"holo\",\n",
    "            base_filters=base_filters,\n",
    "            sub_filters=sub_filters,\n",
    "        )\n",
    "            \n",
    "        index = loader.index.merge(loader.metadata, on=\"id\", how=\"left\")\n",
    "        index[\"length\"] = index[\"length1\"] + index[\"length2\"]\n",
    "        index[\"resolution\"] = index[\"resolution\"].astype(\"float32\")\n",
    "        index = index[\n",
    "            (index[\"length\"] + 2 <= max_length)\n",
    "            & (index[\"length1\"] <= max_length_per_monomer)\n",
    "            & (index[\"length2\"] <= max_length_per_monomer)\n",
    "            & (index[\"label\"] == \"BIO\")\n",
    "        ]\n",
    "        if(split == \"train\"): train_index = index\n",
    "        pinder_ids = list(index[\"id\"])\n",
    "        uniprot_ids = set(list(index[\"uniprot_R\"]) + list(index[\"uniprot_L\"]))\n",
    "        split_pinder_ids[split] = pinder_ids\n",
    "        split_uniprot_ids[split] = uniprot_ids\n",
    "    return split_pinder_ids, split_uniprot_ids, train_index\n",
    "\n",
    "def reduce_train_redundancy(ids, index, max_per_cluster=5):\n",
    "    # ids - list of ids of the training set\n",
    "    # index - index of the training set\n",
    "    ids = list(\n",
    "        set(\n",
    "            index.sort_values(\n",
    "                [\"resolution\", \"id\"],\n",
    "                ascending=[True, True],\n",
    "            )\n",
    "            .groupby(\"cluster_id\", observed=False)\n",
    "            .head(max_per_cluster)[\"id\"]\n",
    "        )\n",
    "    )\n",
    "    return ids\n",
    "\n",
    "def make_random_pairs(L, pdb_L, chain_uniprot_L, uniprot_L, \n",
    "                      pdb_R, uniprot_R,\n",
    "                      interacting_partners, GO, max_num_attempts):\n",
    "    invalidity_flags = []\n",
    "    # Shuffle until no same PDB pairs\n",
    "    for attempt in range(max_num_attempts):  # Limit reattempts\n",
    "        L_info = list(zip(L, pdb_L, chain_uniprot_L, uniprot_L))\n",
    "        if(len(L_info) == 0): return (None, None, None, None, None)\n",
    "        random.Random(SEED).shuffle(L_info)\n",
    "        L, pdb_L, chain_uniprot_L, uniprot_L = zip(*L_info)\n",
    "        \n",
    "        # If UniProt IDs of the new pair are known to contain interacting sequences, retry\n",
    "        if any(uL in interacting_partners[uR] for uR, uL in zip(uniprot_R, uniprot_L)):\n",
    "            if(attempt != max_num_attempts-1):\n",
    "                continue\n",
    "            else:\n",
    "                invalidity_flags.append(\"interacting\")\n",
    "                \n",
    "        # If UniProt IDs of the new pair have overlapping Molecular Function GOs, retry\n",
    "        if any(bool(set(GO[uR]) & set(GO[uL])) for uR, uL in zip(uniprot_R, uniprot_L)):\n",
    "            if(attempt != max_num_attempts-1):\n",
    "                continue\n",
    "            else:\n",
    "                invalidity_flags.append(\"GO\")\n",
    "\n",
    "        # If PDB IDs of all pairs are non-matching, call it a success\n",
    "        if all(pR != pL for pR, pL in zip(pdb_R, pdb_L)): break\n",
    "\n",
    "    return L, pdb_L, chain_uniprot_L, uniprot_L, invalidity_flags\n",
    "\n",
    "\n",
    "def remove_false_negatives(R, L, uniprot_R, uniprot_L, interacting_partners, \n",
    "                           GO, invalidity_flags, orig_pinder_ids):\n",
    "    # If there are invalid pairings, execute removals\n",
    "    if(invalidity_flags):\n",
    "        to_remove = set()\n",
    "        for i, (uR, uL) in enumerate(zip(uniprot_R, uniprot_L)):\n",
    "            if \"interacting\" in invalidity_flags and uL in interacting_partners[uR]: to_remove.add(i)\n",
    "            if \"GO\" in invalidity_flags and bool(set(GO[uR]) & set(GO[uL])): to_remove.add(i)\n",
    "        \n",
    "        valid_indices_R = set(range(len(R)))-to_remove\n",
    "        valid_indices_L = set(range(len(L)))-to_remove\n",
    "        R = [R[i] for i in valid_indices_R]\n",
    "        L = [L[i] for i in valid_indices_L]\n",
    "\n",
    "    # Forming new pinder_ids\n",
    "    paired = zip(R, L)\n",
    "    paired = [\"--\".join(pair) for pair in paired]\n",
    "    \n",
    "    # If new pinder_id is present in the original set, remove that record\n",
    "    paired = [item for item in paired if item not in orig_pinder_ids]\n",
    "\n",
    "    return paired\n",
    "\n",
    "def make_negative_pairs(dfR, dfL, interacting_partners, GO, seed=SEED, max_num_attempts=100, tax_level=\"phylum\"):    \n",
    "    # Separate ids\n",
    "    \n",
    "    dfR[['R', 'L']] = dfR['pinder_id'].str.split('--', expand=True)\n",
    "    dfR[['pdb_R', 'chain_uniprot_R']] = dfR['R'].str.split('__', expand=True)\n",
    "    dfR[['chain_R', 'uniprot_R']] = dfR['chain_uniprot_R'].str.split('_', expand=True)\n",
    "    dfR[['pdb_L', 'chain_uniprot_L']] = dfR['L'].str.split('__', expand=True)\n",
    "    dfR[['chain_L', 'uniprot_L']] = dfR['chain_uniprot_L'].str.split('_', expand=True)\n",
    "\n",
    "    dfL[['R', 'L']] = dfL['pinder_id'].str.split('--', expand=True)\n",
    "    dfL[['pdb_R', 'chain_uniprot_R']] = dfL['R'].str.split('__', expand=True)\n",
    "    dfL[['chain_R', 'uniprot_R']] = dfL['chain_uniprot_R'].str.split('_', expand=True)\n",
    "    dfL[['pdb_L', 'chain_uniprot_L']] = dfL['L'].str.split('__', expand=True)\n",
    "    dfL[['chain_L', 'uniprot_L']] = dfL['chain_uniprot_L'].str.split('_', expand=True)\n",
    "    \n",
    "    # Group by tax_level\n",
    "    negative_ids = []\n",
    "    negative_phyla = []\n",
    "    orig_pinder_ids = set(dfR['pinder_id'])\n",
    "    \n",
    "    for tax_level_el, group in dfR.groupby(f'{tax_level}_R'):\n",
    "        R = group['R'].tolist()\n",
    "        pdb_R = group['pdb_R'].tolist()\n",
    "        uniprot_R = group['uniprot_R'].tolist()\n",
    "\n",
    "        group_L = dfL[dfL[f'{tax_level}_L'] == tax_level_el]\n",
    "        L = group_L['L'].tolist()\n",
    "        pdb_L = group_L['pdb_L'].tolist()\n",
    "        chain_uniprot_L = group_L['chain_uniprot_L'].tolist()\n",
    "        uniprot_L = group_L['uniprot_L'].tolist()\n",
    "\n",
    "        L, pdb_L, chain_uniprot_L, uniprot_L, invalidity_flags = make_random_pairs(\n",
    "            L, pdb_L, chain_uniprot_L, uniprot_L, pdb_R, uniprot_R, \n",
    "            interacting_partners, GO, max_num_attempts\n",
    "        )\n",
    "        # If there are no pairs to form\n",
    "        if(not L): continue\n",
    "        \n",
    "        # If there are invalid pairings, execute removals and get pairs\n",
    "        paired = remove_false_negatives(R, L, uniprot_R, uniprot_L, \n",
    "            interacting_partners, GO, invalidity_flags, orig_pinder_ids\n",
    "        )\n",
    "\n",
    "        negative_ids.extend(paired)\n",
    "        negative_phyla.extend([tax_level_el]*len(paired))\n",
    "\n",
    "    negative_records = list(zip(negative_ids, negative_phyla, negative_phyla))\n",
    "    negative_df = pd.DataFrame(\n",
    "        negative_records, \n",
    "        columns=['pinder_id', f'{tax_level}_R', f'{tax_level}_L']\n",
    "    ).sample(frac=1, random_state=seed).reset_index(drop=True)\n",
    "    \n",
    "    negative_df[['pinder_id_R', 'pinder_id_L']] = negative_df['pinder_id'].str.split('--', expand=True)\n",
    "    \n",
    "    return negative_df\n",
    "\n",
    "def rename_columns(df, to_drop=None, tax_level=\"phylum\"):\n",
    "    df.rename(columns={\n",
    "        \"pinder_id_R\": \"protein1\",\n",
    "        \"pinder_id_L\": \"protein2\",\n",
    "        f\"{tax_level}_R\": f\"{tax_level}1\",\n",
    "        f\"{tax_level}_L\": f\"{tax_level}2\"\n",
    "    }, inplace=True)\n",
    "    if(to_drop): df.drop([to_drop], axis=1, inplace=True)\n",
    "    return df\n",
    "\n",
    "def get_sequences(df):\n",
    "    ids = {\"R\": set(), \"L\": set()}\n",
    "    \n",
    "    for i, j in df.iterrows():\n",
    "        ids[\"R\"].add(df[\"pinder_id_R\"][i])\n",
    "        ids[\"L\"].add(df[\"pinder_id_L\"][i])\n",
    "        \n",
    "    seqs = {}\n",
    "    for k in ids:\n",
    "        for id_ in ids[k]:\n",
    "            struct = structure.Structure(f\"{PINDER_BASE_DIR}/pinder/2024-02/pdbs/{id_}-{k}.pdb\", pinder_id=id_)\n",
    "            seqs[id_] = struct.sequence\n",
    "    return seqs\n",
    "    \n",
    "def make_split_fasta(split):\n",
    "    df = pd.read_csv(f\"{SPLITS_DIR}/{split}.txt\", sep=\"\\t\")\n",
    "\n",
    "    fasta = []\n",
    "    # Reducing duplicates\n",
    "    ids = {\"R\": set(), \"L\": set()}\n",
    "    for i, j in df.iterrows():\n",
    "        idR = df[\"protein1\"][i]\n",
    "        idL = df[\"protein2\"][i]\n",
    "        ids[\"R\"].add(idR)\n",
    "        ids[\"L\"].add(idL)\n",
    "\n",
    "    for k in ids:\n",
    "        for id_ in ids[k]:\n",
    "            struct = structure.Structure(f\"{PINDER_BASE_DIR}/pinder/2024-02/pdbs/{id_}-{k}.pdb\", pinder_id=id_)\n",
    "            fasta.append(SeqRecord(Seq(struct.sequence), id=id_, description=\"\"))\n",
    "    \n",
    "    with open(f\"{SPLITS_DIR}/{split}.fasta\", \"w\") as output_handle:\n",
    "        SeqIO.write(fasta, output_handle, \"fasta-2line\")\n",
    "    "
   ]
  },
  {
   "cell_type": "code",
   "execution_count": 2,
   "id": "de970895-ea39-4f2b-b294-80003d7d5ebe",
   "metadata": {},
   "outputs": [
    {
     "data": {
      "text/plain": [
       "PosixPath('/scicore/home/schwede/durair0000/.local/share/pinder/2024-02')"
      ]
     },
     "execution_count": 2,
     "metadata": {},
     "output_type": "execute_result"
    }
   ],
   "source": [
    "os.environ[\"PINDER_BASE_DIR\"] = PINDER_BASE_DIR\n",
    "get_pinder_location()"
   ]
  },
  {
   "cell_type": "code",
   "execution_count": 3,
   "id": "f007fc0d-da6f-4e71-bac5-7b8cface420c",
   "metadata": {},
   "outputs": [],
   "source": [
    "pinder_ids, uniprot_ids, train_index = select_ids(max_length_per_monomer=512)"
   ]
  },
  {
   "cell_type": "code",
   "execution_count": 4,
   "id": "f82601cf-96a0-48b5-a2c0-badaccf3e11f",
   "metadata": {},
   "outputs": [
    {
     "name": "stdout",
     "output_type": "stream",
     "text": [
      "675729 1799 1767\n",
      "20907 1937 1906\n"
     ]
    }
   ],
   "source": [
    "# Checking number of elements in each split\n",
    "print(len(pinder_ids['train']),\n",
    "      len(pinder_ids['val']),\n",
    "      len(pinder_ids['test'])\n",
    ")\n",
    "\n",
    "print(len(uniprot_ids['train']),\n",
    "      len(uniprot_ids['val']),\n",
    "      len(uniprot_ids['test'])\n",
    ")"
   ]
  },
  {
   "cell_type": "code",
   "execution_count": 5,
   "id": "7df3af2a-b115-4ec8-8950-247b1a3de70d",
   "metadata": {},
   "outputs": [],
   "source": [
    "# Selecting that that both defined UniProt IDs\n",
    "pinder_ids['train'] = [row for row in pinder_ids['train'] if not re.search(r'UNDEFINED', row, re.IGNORECASE)]\n",
    "pinder_ids['val'] = [row for row in pinder_ids['val'] if not re.search(r'UNDEFINED', row, re.IGNORECASE)]\n",
    "pinder_ids['test'] = [row for row in pinder_ids['test'] if not re.search(r'UNDEFINED', row, re.IGNORECASE)]\n",
    "\n",
    "uniprot_ids['train'].remove(\"UNDEFINED\")\n",
    "uniprot_ids['val'].remove(\"UNDEFINED\")\n",
    "uniprot_ids['test'].remove(\"UNDEFINED\")"
   ]
  },
  {
   "cell_type": "code",
   "execution_count": 6,
   "id": "9ebdca60-6e15-4274-ae87-e8fdf22ef01a",
   "metadata": {},
   "outputs": [
    {
     "name": "stdout",
     "output_type": "stream",
     "text": [
      "617197 1748 1688\n",
      "20906 1936 1905\n"
     ]
    }
   ],
   "source": [
    "# Checking number of elements in each split after removal of \"UNDEFINED\"\n",
    "print(len(pinder_ids['train']),\n",
    "      len(pinder_ids['val']),\n",
    "      len(pinder_ids['test'])\n",
    ")\n",
    "\n",
    "print(len(uniprot_ids['train']),\n",
    "      len(uniprot_ids['val']),\n",
    "      len(uniprot_ids['test'])\n",
    ")"
   ]
  },
  {
   "cell_type": "code",
   "execution_count": 7,
   "id": "073c00a5-62d8-4353-978b-2055d57b4dcd",
   "metadata": {},
   "outputs": [],
   "source": [
    "# Save UniProt IDs to a TXT file for \"ID mapping\"\n",
    "with open(UNIPROT_IDS_PATH, 'w') as f:\n",
    "    for split in [\"train\", \"val\", \"test\"]:\n",
    "        for line in uniprot_ids[split]:\n",
    "            f.write(f\"{line}\\n\")"
   ]
  },
  {
   "cell_type": "code",
   "execution_count": 8,
   "id": "b0b7f998-e9ce-4018-9eed-9e1ebd5bd706",
   "metadata": {},
   "outputs": [],
   "source": [
    "# Manually run the ID mapping on the UniProt"
   ]
  },
  {
   "cell_type": "code",
   "execution_count": 9,
   "id": "67c3212f-9a63-4823-bfe3-2215349b46c0",
   "metadata": {},
   "outputs": [],
   "source": [
    "# Determine, which UniProt IDs are belonging to eubacteria with labelled tax_level\n",
    "lineages = pd.read_csv(UNIPROT_LINEAGES_PATH, sep='\\t')\n",
    "\n",
    "eubacteria_phyla = {}\n",
    "eubacteria_annotated_interactions = {}\n",
    "eubacteria_GO = {}\n",
    "\n",
    "for index, row in lineages.iterrows():\n",
    "    if isinstance(row['Taxonomic lineage (Ids)'], str) and \"2 (superkingdom)\" in row['Taxonomic lineage (Ids)']: \n",
    "        match = re.search(r'(\\d+) \\(%s\\)' % TAX_LEVEL, row['Taxonomic lineage (Ids)'])\n",
    "        if match:\n",
    "            tax_level_tax_id = match.group(1)\n",
    "            eubacteria_phyla[row['From']] = tax_level_tax_id\n",
    "            \n",
    "            # Retrieving UniProt IDs of the known interacting partners\n",
    "            if(not pd.isna(row['Interacts with'])):\n",
    "                eubacteria_annotated_interactions[row['From']] = [item.split('-')[0] for item in row['Interacts with'].split('; ')]\n",
    "            else:\n",
    "                eubacteria_annotated_interactions[row['From']] = []\n",
    "            \n",
    "            # Retrieving GO \n",
    "            if(not pd.isna(row['Gene Ontology (molecular function)'])):\n",
    "                eubacteria_GO[row['From']] = re.findall(r\"GO:\\d+\", row['Gene Ontology (molecular function)'])\n",
    "            else:\n",
    "                eubacteria_GO[row['From']] = []"
   ]
  },
  {
   "cell_type": "code",
   "execution_count": 10,
   "id": "284544b4-bae4-48a3-8087-f21504d0745b",
   "metadata": {},
   "outputs": [],
   "source": [
    "# Determine, which PINDER IDs contain both bacterial proteins\n",
    "eubacteria_pinder_ids = {'train': [], 'val': [], 'test': []}\n",
    "eubacteria_pinder_phyla = {}\n",
    "\n",
    "for split in [\"train\", \"val\", \"test\"]:\n",
    "    for id in pinder_ids[split]:\n",
    "        uniprot1 = id.split(\"--\")[0].split(\"_\")[-1]\n",
    "        uniprot2 = id.split(\"--\")[1].split(\"_\")[-1]\n",
    "        if(uniprot1 in eubacteria_phyla.keys() and uniprot2 in eubacteria_phyla.keys()):\n",
    "            eubacteria_pinder_ids[split].append(id)\n",
    "            eubacteria_pinder_phyla[id] = [eubacteria_phyla[uniprot1], eubacteria_phyla[uniprot2]]"
   ]
  },
  {
   "cell_type": "code",
   "execution_count": 24,
   "id": "0bf36719-20e2-4059-941f-e34aa313d12b",
   "metadata": {},
   "outputs": [
    {
     "name": "stdout",
     "output_type": "stream",
     "text": [
      "62180 680 645\n"
     ]
    }
   ],
   "source": [
    "print(len(eubacteria_pinder_ids['train']),\n",
    "      len(eubacteria_pinder_ids['val']),\n",
    "      len(eubacteria_pinder_ids['test'])\n",
    ")"
   ]
  },
  {
   "cell_type": "code",
   "execution_count": 66,
   "id": "6e0dfa7d-1c68-447b-a077-bba512ff2019",
   "metadata": {},
   "outputs": [
    {
     "name": "stdout",
     "output_type": "stream",
     "text": [
      "Split\tClass\tNumber of instances\n"
     ]
    }
   ],
   "source": [
    "# Get negative pairs by pairing each R from the splits with L from the training set\n",
    "# - so that L would come from the same species\n",
    "# - no interacting pairs were formed\n",
    "# - no shared GO would be between the pair's proteins\n",
    "# - no shared PDB ID between chains in the pair\n",
    "# - the pair is not present among the positives\n",
    "\n",
    "def get_positives_df(split, pinder_ids, pinder_tax_annot):\n",
    "    positives = []\n",
    "    for id_ in eubacteria_pinder_ids[split]:\n",
    "        record = {\n",
    "            \"pinder_id\": id_,\n",
    "            \"pinder_id_R\": id_.split(\"--\")[0], \n",
    "            \"pinder_id_L\": id_.split(\"--\")[1], \n",
    "            f\"{TAX_LEVEL}_R\": pinder_tax_annot[id_][0],\n",
    "            f\"{TAX_LEVEL}_L\": pinder_tax_annot[id_][1]}\n",
    "        positives.append(record)\n",
    "    return pd.DataFrame.from_dict(positives)\n",
    "\n",
    "print(f\"Split\\tClass\\tNumber of instances\")\n",
    "\n",
    "for split in [\"train\", \"val\", \"test\"]:\n",
    "    split_positives = []\n",
    "    if(split == \"train\"):\n",
    "        train_positives = get_positives_df(split, eubacteria_pinder_ids, eubacteria_pinder_phyla)\n",
    "        split_positives = train_positives\n",
    "    else:\n",
    "        split_positives = get_positives_df(split, eubacteria_pinder_ids, eubacteria_pinder_phyla)\n",
    "\n",
    "    split_negatives = make_negative_pairs(split_positives, train_positives, \n",
    "        eubacteria_annotated_interactions, eubacteria_GO, tax_level=TAX_LEVEL\n",
    "    )\n",
    "\n",
    "    # Get sequences of the complexes\n",
    "    split_pos_seq = get_sequences(split_positives)\n",
    "    split_neg_seq = get_sequences(split_negatives)\n",
    "    \n",
    "    # Remove homodimers [?]\n",
    "    \n",
    "    # Randomly sample ~100 complexes from each split\n",
    "\n",
    "    # Generate embeddings\n",
    "    \n",
    "    # Compute distances between embeddings\n",
    "    \n",
    "    # Compute KL divergence\n",
    "    \n",
    "    \"\"\"\n",
    "    # Preparations to save\n",
    "    \n",
    "    split_positives = split_positives[[\"pinder_id_R\", \"pinder_id_L\", f\"{TAX_LEVEL}_R\", f\"{TAX_LEVEL}_L\"]]\n",
    "\n",
    "    split_positives = rename_columns(split_positives, tax_level=TAX_LEVEL)\n",
    "    split_negatives = rename_columns(split_negatives, to_drop=\"pinder_id\", tax_level=TAX_LEVEL)\n",
    "    \"\"\"\n"
   ]
  },
  {
   "cell_type": "code",
   "execution_count": null,
   "id": "504283ed-d950-41cd-8489-97d08bf1af4a",
   "metadata": {},
   "outputs": [],
   "source": [
    "split_pos_seq = get_sequences(split_positives)"
   ]
  },
  {
   "cell_type": "code",
   "execution_count": 78,
   "id": "0e035838-0239-4975-a884-00fd8094113a",
   "metadata": {},
   "outputs": [],
   "source": [
    "split_neg_seq = get_sequences(split_negatives)"
   ]
  },
  {
   "cell_type": "code",
   "execution_count": 87,
   "id": "2dd8d367-c307-48ca-8940-b2696344e2e1",
   "metadata": {},
   "outputs": [],
   "source": [
    "# Setting up generation of embeddings\n",
    "\n",
    "DEVICE = torch.device('cuda' if torch.cuda.is_available() else 'cpu')\n",
    "\n",
    "model = AutoModel.from_pretrained(f\"{HOME}/projects/gLM/gLM2_650M\", torch_dtype=torch.bfloat16, trust_remote_code=True).to(DEVICE)\n",
    "tokenizer = AutoTokenizer.from_pretrained(f\"{HOME}/projects/gLM/gLM2_650M\", trust_remote_code=True)"
   ]
  },
  {
   "cell_type": "code",
   "execution_count": 113,
   "id": "1fe1f23d-9827-46eb-af2e-0fe2dd88a7ab",
   "metadata": {},
   "outputs": [],
   "source": [
    "def generate_embeddings(df, seq_df, model, tokenizer, num_samples=5, emb_dim=1280):\n",
    "    embs_R = torch.empty((1, num_samples, emb_dim), dtype=torch.float64)\n",
    "    embs_L = torch.empty((1, num_samples, emb_dim), dtype=torch.float64)\n",
    "    \n",
    "    for i, record in df[:num_samples].iterrows():\n",
    "        enc_R = tokenizer([seq_df[record['pinder_id_R']]], return_tensors='pt').to(DEVICE)\n",
    "        enc_L = tokenizer([seq_df[record['pinder_id_L']]], return_tensors='pt').to(DEVICE)\n",
    "        \n",
    "        with torch.no_grad():\n",
    "            embs_R[0][i] = model(enc_R.input_ids, output_hidden_states=True).last_hidden_state.mean(dim=1)\n",
    "            embs_L[0][i] = model(enc_L.input_ids, output_hidden_states=True).last_hidden_state.mean(dim=1)\n",
    "            \n",
    "    return torch.squeeze(embs_R), torch.squeeze(embs_L)\n",
    "\n",
    "split_pos_embs_R, split_pos_embs_L = generate_embeddings(split_positives, split_pos_seq, model, tokenizer, num_samples=100, emb_dim=1280)\n",
    "split_neg_embs_R, split_neg_embs_L = generate_embeddings(split_negatives, split_neg_seq, model, tokenizer, num_samples=100, emb_dim=1280)"
   ]
  },
  {
   "cell_type": "code",
   "execution_count": 114,
   "id": "90b837a8-05e1-49a4-a43d-955d3ba74990",
   "metadata": {},
   "outputs": [],
   "source": [
    "# Compute distances\n",
    "split_pos_dists = torch.cdist(split_pos_embs_R, split_pos_embs_L).diag()\n",
    "split_neg_dists = torch.cdist(split_neg_embs_R, split_neg_embs_L).diag()"
   ]
  },
  {
   "cell_type": "code",
   "execution_count": 118,
   "id": "a72fae02-e836-4407-99a9-2f24936edc12",
   "metadata": {},
   "outputs": [
    {
     "data": {
      "image/png": "[encoded data removed]",
      "text/plain": [
       "<Figure size 3000x1500 with 1 Axes>"
      ]
     },
     "metadata": {},
     "output_type": "display_data"
    },
    {
     "name": "stdout",
     "output_type": "stream",
     "text": [
      "(np.float64(0.8794326579925785), np.float64(1.1785496583286341))\n"
     ]
    }
   ],
   "source": [
    "def plot_distributions(dist1, dist2, title):\n",
    "    matplotlib.rcParams['figure.dpi'] = 300\n",
    "    plt.figure(figsize=(10, 5))\n",
    "\n",
    "    hist1, _ = np.histogram(dist1, density=True)\n",
    "    hist2, _ = np.histogram(dist2, density=True)\n",
    "    \n",
    "    plt.hist(dist1, color='red', alpha=0.5, label='positive')\n",
    "    plt.hist(dist2, color='blue', alpha=0.5, label='negative')\n",
    "    plt.xlabel('distance')\n",
    "    plt.ylabel('frequency')\n",
    "    plt.title(title)\n",
    "    plt.legend()\n",
    "    \n",
    "    plt.show()\n",
    "\n",
    "    return hist1, hist2\n",
    "\n",
    "def compute_KL_divergence(hist1, hist2):\n",
    "    # Clip to avoid division by zero and ensure valid inputs\n",
    "    epsilon = 1e-10\n",
    "    p1 = np.clip(hist1, epsilon, None)\n",
    "    p2 = np.clip(hist2, epsilon, None)\n",
    "    \n",
    "    # Normalize histograms to make them proper probability distributions\n",
    "    p1 /= p1.sum()\n",
    "    p2 /= p2.sum()\n",
    "    \n",
    "    kl_12 = np.sum(rel_entr(p1, p2))\n",
    "    kl_21 = np.sum(rel_entr(p2, p1))\n",
    "    \n",
    "    return kl_12, kl_21\n",
    "\n",
    "hist_pos, hist_neg = plot_distributions(split_pos_dists, split_neg_dists, \"Distance distribution\")\n",
    "print(compute_KL_divergence(hist_pos, hist_neg))"
   ]
  },
  {
   "cell_type": "code",
   "execution_count": null,
   "id": "08dd0851-1e19-40b0-8821-b9af1d54fa9e",
   "metadata": {},
   "outputs": [],
   "source": []
  },
  {
   "cell_type": "code",
   "execution_count": 64,
   "id": "2c897770-537a-442b-96d9-7c13bfd4984d",
   "metadata": {},
   "outputs": [],
   "source": [
    "# Remove redundancy from the training set\n",
    "mask = train_index['id'].isin(eubacteria_pinder_ids['train'])\n",
    "eubacteria_train_index = train_index[mask]\n",
    "eubacteria_pinder_ids['train'] = reduce_train_redundancy(eubacteria_pinder_ids['train'], eubacteria_train_index, max_per_cluster=5)"
   ]
  },
  {
   "cell_type": "code",
   "execution_count": 65,
   "id": "259f3538-e7e8-4fa2-907b-aaf46d39d17c",
   "metadata": {},
   "outputs": [
    {
     "name": "stdout",
     "output_type": "stream",
     "text": [
      "6668 680 645\n"
     ]
    }
   ],
   "source": [
    "# Number of elements in each split after redundancy removal\n",
    "print(len(eubacteria_pinder_ids['train']),\n",
    "      len(eubacteria_pinder_ids['val']),\n",
    "      len(eubacteria_pinder_ids['test'])\n",
    ")"
   ]
  },
  {
   "cell_type": "code",
   "execution_count": 67,
   "id": "1ca0c57b-ee13-4952-87b9-bb0d5588273b",
   "metadata": {},
   "outputs": [
    {
     "name": "stdout",
     "output_type": "stream",
     "text": [
      "Split\tClass\tNumber of instances\n",
      "train\t0\t4617\n",
      "train\t1\t4617\n",
      "val\t0\t344\n",
      "val\t1\t344\n",
      "test\t0\t332\n",
      "test\t1\t332\n"
     ]
    }
   ],
   "source": [
    "# Save IDs and phyla\n",
    "\n",
    "print(f\"Split\\tClass\\tNumber of instances\")\n",
    "\n",
    "for split in [\"train\", \"val\", \"test\"]:\n",
    "    split_positives = []\n",
    "    for id in eubacteria_pinder_ids[split]:\n",
    "        record = {\n",
    "            \"pinder_id\": id,\n",
    "            \"pinder_id_R\": id.split(\"--\")[0], \n",
    "            \"pinder_id_L\": id.split(\"--\")[1], \n",
    "            f\"{TAX_LEVEL}_R\": eubacteria_pinder_phyla[id][0], \n",
    "            f\"{TAX_LEVEL}_L\": eubacteria_pinder_phyla[id][1]}\n",
    "        split_positives.append(record)\n",
    "    \n",
    "    split_positives = pd.DataFrame.from_dict(split_positives)\n",
    "    split_negatives = make_negative_pairs(split_positives, eubacteria_annotated_interactions, eubacteria_GO, tax_level=TAX_LEVEL)\n",
    "    split_positives = split_positives[[\"pinder_id_R\", \"pinder_id_L\", f\"{TAX_LEVEL}_R\", f\"{TAX_LEVEL}_L\"]]\n",
    "\n",
    "    split_positives = rename_columns(split_positives, tax_level=TAX_LEVEL)\n",
    "    split_negatives = rename_columns(split_negatives, to_drop=\"pinder_id\", tax_level=TAX_LEVEL)\n",
    "    \n",
    "    # Balancing the set\n",
    "    split_positives = split_positives.sample(n=len(split_negatives), random_state=SEED)\n",
    "\n",
    "    # Labelling the set\n",
    "    split_negatives['label'] = [0]*len(split_negatives)\n",
    "    split_positives['label'] = [1]*len(split_positives)\n",
    "    \n",
    "    # Summary of the split\n",
    "    print(f\"{split}\\t0\\t{len(split_negatives)}\\n{split}\\t1\\t{len(split_positives)}\")\n",
    "\n",
    "    # Merging the classes\n",
    "    split_all = pd.concat([split_positives, split_negatives])\n",
    "    \n",
    "    # Shuffling\n",
    "    split_all = split_all.sample(frac=1, random_state=SEED).reset_index(drop=True)\n",
    "    \n",
    "    # Saving\n",
    "    split_all.to_csv(f\"{SPLITS_DIR}/{split}.txt\", sep=\"\\t\", index=False)\n",
    "    "
   ]
  },
  {
   "cell_type": "code",
   "execution_count": 68,
   "id": "4ecb63c4-1e90-4162-afd4-b8d6a2f1882b",
   "metadata": {},
   "outputs": [],
   "source": [
    "for split in [\"train\", \"val\", \"test\"]: make_split_fasta(split)"
   ]
  },
  {
   "cell_type": "code",
   "execution_count": 69,
   "id": "e9984fba-c401-435b-a835-36a64fa2e921",
   "metadata": {},
   "outputs": [],
   "source": [
    "!cat $SPLITS_DIR/train.fasta $SPLITS_DIR/val.fasta $SPLITS_DIR/test.fasta > $SPLITS_DIR/sequences.fasta"
   ]
  },
  {
   "cell_type": "code",
   "execution_count": null,
   "id": "9fcc4630-47e4-43dd-8fff-fc3ad64f38c0",
   "metadata": {},
   "outputs": [],
   "source": []
  }
 ],
 "metadata": {
  "kernelspec": {
   "display_name": "glam",
   "language": "python",
   "name": "glam"
  },
  "language_info": {
   "codemirror_mode": {
    "name": "ipython",
    "version": 3
   },
   "file_extension": ".py",
   "mimetype": "text/x-python",
   "name": "python",
   "nbconvert_exporter": "python",
   "pygments_lexer": "ipython3",
   "version": "3.11.11"
  }
 },
 "nbformat": 4,
 "nbformat_minor": 5
}
