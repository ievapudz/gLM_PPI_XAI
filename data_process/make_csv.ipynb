{
 "cells": [
  {
   "cell_type": "code",
   "execution_count": 8,
   "id": "8351f1b8-01d9-4210-9427-6c6f6597bec8",
   "metadata": {},
   "outputs": [],
   "source": [
    "# Convert TXT file with seq. ids and FASTA to a CSV file with sequences and labels\n",
    "\n",
    "from Processor import Processor\n",
    "import pandas as pd\n",
    "\n",
    "TXT_PATH=\"/scicore/home/schwede/pudziu0000/projects/gLM/data/Bernett2022_1k/test.txt\"\n",
    "FASTA_PATH=\"/scicore/home/schwede/pudziu0000/projects/gLM/data/Bernett2022/human_swissprot_oneliner.fasta\"\n",
    "CSV_PATH=\"/scicore/home/schwede/pudziu0000/projects/gLM/data/Bernett2022_1k/test.csv\"\n",
    "\n",
    "proc = Processor(FASTA_PATH, TXT_PATH, None)\n",
    "\n",
    "fasta = proc.load_fasta()\n",
    "pairs = proc.load_pair_list()"
   ]
  },
  {
   "cell_type": "code",
   "execution_count": null,
   "id": "a10eceee-2736-43a4-8687-e0d96aa8dcc7",
   "metadata": {},
   "outputs": [],
   "source": [
    "fasta"
   ]
  },
  {
   "cell_type": "code",
   "execution_count": 11,
   "id": "32b9eb12-f727-41ff-a119-aac840a6071d",
   "metadata": {},
   "outputs": [],
   "source": [
    "csv_data = {\"seq1\": [], \"seq2\": [], \"labels\": []}\n",
    "\n",
    "for i, pair in pairs.iterrows():\n",
    "    csv_data[\"seq1\"].append(fasta[pair[\"protein1\"]])\n",
    "    csv_data[\"seq2\"].append(fasta[pair[\"protein2\"]])\n",
    "    csv_data[\"labels\"].append(pair[\"label\"])\n",
    "\n",
    "csv_df = pd.DataFrame.from_dict(csv_data)\n",
    "csv_df.to_csv(CSV_PATH, index=False)"
   ]
  }
 ],
 "metadata": {
  "kernelspec": {
   "display_name": "Python [conda env:mambaforge-gLM11]",
   "language": "python",
   "name": "conda-env-mambaforge-gLM11-py"
  },
  "language_info": {
   "codemirror_mode": {
    "name": "ipython",
    "version": 3
   },
   "file_extension": ".py",
   "mimetype": "text/x-python",
   "name": "python",
   "nbconvert_exporter": "python",
   "pygments_lexer": "ipython3",
   "version": "3.11.11"
  }
 },
 "nbformat": 4,
 "nbformat_minor": 5
}
