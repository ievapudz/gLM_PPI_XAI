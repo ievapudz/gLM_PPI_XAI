{
 "cells": [
  {
   "cell_type": "code",
   "execution_count": 42,
   "id": "8e372a53-282c-4c38-b24b-e96982434ada",
   "metadata": {},
   "outputs": [],
   "source": [
    "import torch\n",
    "\n",
    "from pinder.core import get_index, PinderSystem\n",
    "from pinder.core import PinderLoader\n",
    "from pinder.core.loader import filters\n",
    "from pinder.core.index.system import PinderSystem\n",
    "from pinder.core import get_pinder_location\n",
    "import re\n",
    "import pandas as pd\n",
    "import csv\n",
    "import os\n",
    "\n",
    "UNIPROT_IDS_PATH=\"/scicore/home/schwede/pudziu0000/projects/gLM/data/PINDER/uniprot_ids_1024_512.lst\"\n",
    "UNIPROT_LINEAGES_PATH=\"/scicore/home/schwede/pudziu0000/projects/gLM/data/PINDER/uniprot_lineages_1024_512.tsv\"\n",
    "POSITIVES_DIR=\"/scicore/home/schwede/pudziu0000/projects/gLM/data/PINDER/eubacteria_5_1024_512/\"\n",
    "\n",
    "def get_system(system_id: str) -> PinderSystem:\n",
    "    return PinderSystem(system_id)\n",
    "\n",
    "def select_ids(max_length=1024, max_length_per_monomer=400):\n",
    "    base_filters = [\n",
    "        filters.FilterByMissingHolo(),\n",
    "        filters.FilterSubByContacts(min_contacts=5, radius=10.0, calpha_only=True),\n",
    "        filters.FilterDetachedHolo(radius=12, max_components=2),\n",
    "    ]\n",
    "    sub_filters = [\n",
    "        filters.FilterSubByAtomTypes(min_atom_types=4),\n",
    "        filters.FilterByHoloOverlap(min_overlap=5),\n",
    "        filters.FilterByHoloSeqIdentity(min_sequence_identity=0.8),\n",
    "        filters.FilterSubRmsds(rmsd_cutoff=7.5),\n",
    "        filters.FilterDetachedSub(radius=12, max_components=2),\n",
    "    ]\n",
    "    split_pinder_ids = {}\n",
    "    split_uniprot_ids = {}\n",
    "    train_index = None\n",
    "    for split in [\"train\", \"val\", \"test\"]:\n",
    "        loader = PinderLoader(\n",
    "            split=split,\n",
    "            monomer_priority=\"holo\",\n",
    "            base_filters=base_filters,\n",
    "            sub_filters=sub_filters,\n",
    "        )\n",
    "        index = loader.index.merge(loader.metadata, on=\"id\", how=\"left\")\n",
    "        index[\"length\"] = index[\"length1\"] + index[\"length2\"]\n",
    "        index[\"resolution\"] = index[\"resolution\"].astype(\"float32\")\n",
    "        index = index[\n",
    "            (index[\"length\"] + 2 <= max_length)\n",
    "            & (index[\"length1\"] <= max_length_per_monomer)\n",
    "            & (index[\"length2\"] <= max_length_per_monomer)\n",
    "            & (index[\"label\"] == \"BIO\")\n",
    "        ]\n",
    "        if(split == \"train\"): train_index = index\n",
    "        pinder_ids = list(index[\"id\"])\n",
    "        uniprot_ids = set(list(index[\"uniprot_R\"]) + list(index[\"uniprot_L\"]))\n",
    "        split_pinder_ids[split] = pinder_ids\n",
    "        split_uniprot_ids[split] = uniprot_ids\n",
    "    return split_pinder_ids, split_uniprot_ids, train_index\n",
    "\n",
    "def reduce_train_redundancy(ids, index, max_per_cluster=5):\n",
    "    # ids - list of ids of the training set\n",
    "    # index - index of the training set\n",
    "    ids = list(\n",
    "        set(\n",
    "            index.sort_values(\n",
    "                [\"resolution\", \"id\"],\n",
    "                ascending=[True, True],\n",
    "            )\n",
    "            .groupby(\"cluster_id\", observed=False)\n",
    "            .head(max_per_cluster)[\"id\"]\n",
    "        )\n",
    "    )\n",
    "    return ids\n",
    "    "
   ]
  },
  {
   "cell_type": "code",
   "execution_count": 28,
   "id": "de970895-ea39-4f2b-b294-80003d7d5ebe",
   "metadata": {},
   "outputs": [
    {
     "data": {
      "text/plain": [
       "PosixPath('/scicore/home/schwede/durair0000/.local/share/pinder/2024-02')"
      ]
     },
     "execution_count": 28,
     "metadata": {},
     "output_type": "execute_result"
    }
   ],
   "source": [
    "os.environ[\"PINDER_BASE_DIR\"] = \"/scicore/home/schwede/durair0000/.local/share/\"\n",
    "get_pinder_location()"
   ]
  },
  {
   "cell_type": "code",
   "execution_count": 29,
   "id": "f007fc0d-da6f-4e71-bac5-7b8cface420c",
   "metadata": {},
   "outputs": [],
   "source": [
    "pinder_ids, uniprot_ids, train_index = select_ids(max_length_per_monomer=512)"
   ]
  },
  {
   "cell_type": "code",
   "execution_count": 30,
   "id": "f82601cf-96a0-48b5-a2c0-badaccf3e11f",
   "metadata": {},
   "outputs": [
    {
     "name": "stdout",
     "output_type": "stream",
     "text": [
      "675729 1799 1767\n",
      "20907 1937 1906\n"
     ]
    }
   ],
   "source": [
    "# Checking number of elements in each split\n",
    "print(len(pinder_ids['train']),\n",
    "      len(pinder_ids['val']),\n",
    "      len(pinder_ids['test'])\n",
    ")\n",
    "\n",
    "print(len(uniprot_ids['train']),\n",
    "      len(uniprot_ids['val']),\n",
    "      len(uniprot_ids['test'])\n",
    ")"
   ]
  },
  {
   "cell_type": "code",
   "execution_count": 31,
   "id": "7df3af2a-b115-4ec8-8950-247b1a3de70d",
   "metadata": {},
   "outputs": [],
   "source": [
    "# Selecting that that both defined UniProt IDs\n",
    "pinder_ids['train'] = [row for row in pinder_ids['train'] if not re.search(r'UNDEFINED', row, re.IGNORECASE)]\n",
    "pinder_ids['val'] = [row for row in pinder_ids['val'] if not re.search(r'UNDEFINED', row, re.IGNORECASE)]\n",
    "pinder_ids['test'] = [row for row in pinder_ids['test'] if not re.search(r'UNDEFINED', row, re.IGNORECASE)]\n",
    "\n",
    "uniprot_ids['train'].remove(\"UNDEFINED\")\n",
    "uniprot_ids['val'].remove(\"UNDEFINED\")\n",
    "uniprot_ids['test'].remove(\"UNDEFINED\")"
   ]
  },
  {
   "cell_type": "code",
   "execution_count": 32,
   "id": "9ebdca60-6e15-4274-ae87-e8fdf22ef01a",
   "metadata": {},
   "outputs": [
    {
     "name": "stdout",
     "output_type": "stream",
     "text": [
      "617197 1748 1688\n",
      "20906 1936 1905\n"
     ]
    }
   ],
   "source": [
    "# Checking number of elements in each split after removal of \"UNDEFINED\"\n",
    "print(len(pinder_ids['train']),\n",
    "      len(pinder_ids['val']),\n",
    "      len(pinder_ids['test'])\n",
    ")\n",
    "\n",
    "print(len(uniprot_ids['train']),\n",
    "      len(uniprot_ids['val']),\n",
    "      len(uniprot_ids['test'])\n",
    ")"
   ]
  },
  {
   "cell_type": "code",
   "execution_count": 33,
   "id": "073c00a5-62d8-4353-978b-2055d57b4dcd",
   "metadata": {},
   "outputs": [],
   "source": [
    "# Save UniProt IDs to a TXT file for \"ID mapping\"\n",
    "with open(UNIPROT_IDS_PATH, 'w') as f:\n",
    "    for split in [\"train\", \"val\", \"test\"]:\n",
    "        for line in uniprot_ids[split]:\n",
    "            f.write(f\"{line}\\n\")"
   ]
  },
  {
   "cell_type": "code",
   "execution_count": null,
   "id": "b0b7f998-e9ce-4018-9eed-9e1ebd5bd706",
   "metadata": {},
   "outputs": [],
   "source": [
    "# Manually run the ID mapping on the UniProt"
   ]
  },
  {
   "cell_type": "code",
   "execution_count": 47,
   "id": "67c3212f-9a63-4823-bfe3-2215349b46c0",
   "metadata": {},
   "outputs": [],
   "source": [
    "# Determine, which UniProt IDs are belonging to eubacteria with labelled phylum\n",
    "lineages = pd.read_csv(UNIPROT_LINEAGES_PATH, sep='\\t')\n",
    "\n",
    "eubacteria_phyla = {}\n",
    "\n",
    "for index, row in lineages.iterrows():\n",
    "    if isinstance(row['Taxonomic lineage (Ids)'], str) and \"2 (superkingdom)\" in row['Taxonomic lineage (Ids)']: \n",
    "        match = re.search(r'(\\d+) \\(phylum\\)', row['Taxonomic lineage (Ids)'])\n",
    "        if match:\n",
    "            phylum_tax_id = match.group(1)\n",
    "            eubacteria_phyla[row['From']] = phylum_tax_id"
   ]
  },
  {
   "cell_type": "code",
   "execution_count": 50,
   "id": "284544b4-bae4-48a3-8087-f21504d0745b",
   "metadata": {},
   "outputs": [],
   "source": [
    "# Determine, which PINDER IDs contain both bacterial proteins\n",
    "eubacteria_pinder_ids = {'train': [], 'val': [], 'test': []}\n",
    "eubacteria_pinder_phyla = {}\n",
    "\n",
    "for split in [\"train\", \"val\", \"test\"]:\n",
    "    for id in pinder_ids[split]:\n",
    "        uniprot1 = id.split(\"--\")[0].split(\"_\")[-1]\n",
    "        uniprot2 = id.split(\"--\")[1].split(\"_\")[-1]\n",
    "        if(uniprot1 in eubacteria_phyla.keys() and uniprot2 in eubacteria_phyla.keys()):\n",
    "            eubacteria_pinder_ids[split].append(id)\n",
    "            eubacteria_pinder_phyla[id] = [eubacteria_phyla[uniprot1], eubacteria_phyla[uniprot2]]"
   ]
  },
  {
   "cell_type": "code",
   "execution_count": 51,
   "id": "0bf36719-20e2-4059-941f-e34aa313d12b",
   "metadata": {},
   "outputs": [
    {
     "name": "stdout",
     "output_type": "stream",
     "text": [
      "86221 906 885\n"
     ]
    }
   ],
   "source": [
    "print(len(eubacteria_pinder_ids['train']),\n",
    "      len(eubacteria_pinder_ids['val']),\n",
    "      len(eubacteria_pinder_ids['test'])\n",
    ")"
   ]
  },
  {
   "cell_type": "code",
   "execution_count": 43,
   "id": "2c897770-537a-442b-96d9-7c13bfd4984d",
   "metadata": {},
   "outputs": [],
   "source": [
    "# Remove redundancy from the training set\n",
    "mask = train_index['id'].isin(eubacteria_pinder_ids['train'])\n",
    "eubacteria_train_index = train_index[mask]\n",
    "eubacteria_pinder_ids['train'] = reduce_train_redundancy(eubacteria_pinder_ids['train'], eubacteria_train_index, max_per_cluster=5)"
   ]
  },
  {
   "cell_type": "code",
   "execution_count": 46,
   "id": "259f3538-e7e8-4fa2-907b-aaf46d39d17c",
   "metadata": {},
   "outputs": [
    {
     "name": "stdout",
     "output_type": "stream",
     "text": [
      "8283 906 885\n"
     ]
    }
   ],
   "source": [
    "# Number of elements in each split after redundancy removal\n",
    "print(len(eubacteria_pinder_ids['train']),\n",
    "      len(eubacteria_pinder_ids['val']),\n",
    "      len(eubacteria_pinder_ids['test'])\n",
    ")"
   ]
  },
  {
   "cell_type": "code",
   "execution_count": 53,
   "id": "1ca0c57b-ee13-4952-87b9-bb0d5588273b",
   "metadata": {},
   "outputs": [],
   "source": [
    "# Save IDs of the positives and phyla\n",
    "for split in [\"train\", \"val\", \"test\"]:\n",
    "    split_data = []\n",
    "    for id in eubacteria_pinder_ids[split]:\n",
    "        split_data.append({\"pinder_id\": id, \"phylum_1\": eubacteria_pinder_phyla[id][0], \"phylum_2\": eubacteria_pinder_phyla[id][1]})\n",
    "    with open(f\"{POSITIVES_DIR}/{split}.csv\", 'w', newline='') as csvfile:\n",
    "        fieldnames = ['pinder_id', 'phylum_1', 'phylum_2']\n",
    "        writer = csv.DictWriter(csvfile, fieldnames=fieldnames)\n",
    "        writer.writeheader()\n",
    "        writer.writerows(split_data)"
   ]
  },
  {
   "cell_type": "code",
   "execution_count": null,
   "id": "a2190dd1-28ab-4493-b281-bfa86a201369",
   "metadata": {},
   "outputs": [],
   "source": [
    "# Make negative pairs"
   ]
  }
 ],
 "metadata": {
  "kernelspec": {
   "display_name": "glam",
   "language": "python",
   "name": "glam"
  },
  "language_info": {
   "codemirror_mode": {
    "name": "ipython",
    "version": 3
   },
   "file_extension": ".py",
   "mimetype": "text/x-python",
   "name": "python",
   "nbconvert_exporter": "python",
   "pygments_lexer": "ipython3",
   "version": "3.11.11"
  }
 },
 "nbformat": 4,
 "nbformat_minor": 5
}
