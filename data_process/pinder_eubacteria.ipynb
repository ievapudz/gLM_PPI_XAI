{
 "cells": [
  {
   "cell_type": "code",
   "execution_count": 52,
   "id": "8e372a53-282c-4c38-b24b-e96982434ada",
   "metadata": {},
   "outputs": [],
   "source": [
    "import torch\n",
    "\n",
    "from pinder.core import get_index, PinderSystem\n",
    "from pinder.core import PinderLoader\n",
    "from pinder.core.loader import filters\n",
    "from pinder.core.index.system import PinderSystem\n",
    "from pinder.core import get_pinder_location\n",
    "import re\n",
    "import pandas as pd\n",
    "import csv\n",
    "import os\n",
    "import random\n",
    "\n",
    "UNIPROT_IDS_PATH=\"/scicore/home/schwede/pudziu0000/projects/gLM/data/PINDER/uniprot_ids_1024_512.lst\"\n",
    "UNIPROT_LINEAGES_PATH=\"/scicore/home/schwede/pudziu0000/projects/gLM/data/PINDER/uniprot_lineages_annotations_1024_512.tsv\"\n",
    "SPLITS_DIR=\"/scicore/home/schwede/pudziu0000/projects/gLM/data/PINDER/eubacteria_5_1024_512/\"\n",
    "SEED=42\n",
    "\n",
    "random.seed(SEED)\n",
    "\n",
    "def select_ids(max_length=1024, max_length_per_monomer=400):\n",
    "    base_filters = [\n",
    "        filters.FilterByMissingHolo(),\n",
    "        filters.FilterSubByContacts(min_contacts=5, radius=10.0, calpha_only=True),\n",
    "        filters.FilterDetachedHolo(radius=12, max_components=2),\n",
    "    ]\n",
    "    sub_filters = [\n",
    "        filters.FilterSubByAtomTypes(min_atom_types=4),\n",
    "        filters.FilterByHoloOverlap(min_overlap=5),\n",
    "        filters.FilterByHoloSeqIdentity(min_sequence_identity=0.8),\n",
    "        filters.FilterSubRmsds(rmsd_cutoff=7.5),\n",
    "        filters.FilterDetachedSub(radius=12, max_components=2),\n",
    "    ]\n",
    "    split_pinder_ids = {}\n",
    "    split_uniprot_ids = {}\n",
    "    train_index = None\n",
    "    for split in [\"train\", \"val\", \"test\"]:\n",
    "        loader = PinderLoader(\n",
    "            split=split,\n",
    "            monomer_priority=\"holo\",\n",
    "            base_filters=base_filters,\n",
    "            sub_filters=sub_filters,\n",
    "        )\n",
    "        print(loader)\n",
    "        index = loader.index.merge(loader.metadata, on=\"id\", how=\"left\")\n",
    "        index[\"length\"] = index[\"length1\"] + index[\"length2\"]\n",
    "        index[\"resolution\"] = index[\"resolution\"].astype(\"float32\")\n",
    "        index = index[\n",
    "            (index[\"length\"] + 2 <= max_length)\n",
    "            & (index[\"length1\"] <= max_length_per_monomer)\n",
    "            & (index[\"length2\"] <= max_length_per_monomer)\n",
    "            & (index[\"label\"] == \"BIO\")\n",
    "        ]\n",
    "        if(split == \"train\"): train_index = index\n",
    "        pinder_ids = list(index[\"id\"])\n",
    "        uniprot_ids = set(list(index[\"uniprot_R\"]) + list(index[\"uniprot_L\"]))\n",
    "        split_pinder_ids[split] = pinder_ids\n",
    "        split_uniprot_ids[split] = uniprot_ids\n",
    "    return split_pinder_ids, split_uniprot_ids, train_index\n",
    "\n",
    "def reduce_train_redundancy(ids, index, max_per_cluster=5):\n",
    "    # ids - list of ids of the training set\n",
    "    # index - index of the training set\n",
    "    ids = list(\n",
    "        set(\n",
    "            index.sort_values(\n",
    "                [\"resolution\", \"id\"],\n",
    "                ascending=[True, True],\n",
    "            )\n",
    "            .groupby(\"cluster_id\", observed=False)\n",
    "            .head(max_per_cluster)[\"id\"]\n",
    "        )\n",
    "    )\n",
    "    return ids\n",
    "\n",
    "def make_random_pairs(L, pdb_L, chain_uniprot_L, uniprot_L, \n",
    "                      pdb_R, uniprot_R,\n",
    "                      interacting_partners, GO, max_num_attempts):\n",
    "    invalidity_flags = []\n",
    "    # Shuffle until no same PDB pairs\n",
    "    for attempt in range(max_num_attempts):  # Limit reattempts\n",
    "        L_info = list(zip(L, pdb_L, chain_uniprot_L, uniprot_L))\n",
    "        random.shuffle(L_info)\n",
    "        L, pdb_L, chain_uniprot_L, uniprot_L = zip(*L_info)\n",
    "        \n",
    "        # If UniProt IDs of the new pair are known to contain interacting sequences, retry\n",
    "        if any(uL in interacting_partners[uR] for uR, uL in zip(uniprot_R, uniprot_L)):\n",
    "            if(attempt != max_num_attempts-1):\n",
    "                continue\n",
    "            else:\n",
    "                invalidity_flags.append(\"interacting\")\n",
    "                \n",
    "        # If UniProt IDs of the new pair have overlapping Molecular Function GOs, retry\n",
    "        if any(bool(set(GO[uR]) & set(GO[uL])) for uR, uL in zip(uniprot_R, uniprot_L)):\n",
    "            if(attempt != max_num_attempts-1):\n",
    "                continue\n",
    "            else:\n",
    "                invalidity_flags.append(\"GO\")\n",
    "\n",
    "        # If PDB IDs of all pairs are non-matching, call it a success\n",
    "        if all(pR != pL for pR, pL in zip(pdb_R, pdb_L)): break\n",
    "\n",
    "    return L, pdb_L, chain_uniprot_L, uniprot_L, invalidity_flags\n",
    "\n",
    "\n",
    "def remove_false_negatives(R, L, uniprot_R, uniprot_L, interacting_partners, \n",
    "                           GO, invalidity_flags, orig_pinder_ids):\n",
    "    # If there are invalid pairings, execute removals\n",
    "    if(invalidity_flags):\n",
    "        to_remove = set()\n",
    "        for i, (uR, uL) in enumerate(zip(uniprot_R, uniprot_L)):\n",
    "            if \"interacting\" in invalidity_flags and uL in interacting_partners[uR]: to_remove.add(i)\n",
    "            if \"GO\" in invalidity_flags and bool(set(GO[uR]) & set(GO[uL])): to_remove.add(i)\n",
    "        \n",
    "        valid_indices = set(range(len(R)))-to_remove\n",
    "        R = [R[i] for i in valid_indices]\n",
    "        L = [L[i] for i in valid_indices]\n",
    "    \n",
    "    # Forming new pinder_ids\n",
    "    paired = zip(R, L)\n",
    "    paired = [\"--\".join(pair) for pair in paired]\n",
    "    \n",
    "    # If new pinder_id is present in the original set, remove that record\n",
    "    paired = [item for item in paired if item not in orig_pinder_ids]\n",
    "\n",
    "    return paired\n",
    "\n",
    "def make_negative_pairs(df, interacting_partners, GO, seed=SEED, max_num_attempts=100):    \n",
    "    # Separate ids\n",
    "    df[['R', 'L']] = df['pinder_id'].str.split('--', expand=True)\n",
    "    df[['pdb_R', 'chain_uniprot_R']] = df['R'].str.split('__', expand=True)\n",
    "    df[['chain_R', 'uniprot_R']] = df['chain_uniprot_R'].str.split('_', expand=True)\n",
    "    df[['pdb_L', 'chain_uniprot_L']] = df['L'].str.split('__', expand=True)\n",
    "    df[['chain_L', 'uniprot_L']] = df['chain_uniprot_L'].str.split('_', expand=True)\n",
    "    \n",
    "    # Group by phylum\n",
    "    negative_ids = []\n",
    "    negative_phyla = []\n",
    "    orig_pinder_ids = set(df['pinder_id'])\n",
    "    \n",
    "    for phylum, group in df.groupby('phylum_R'):\n",
    "        \n",
    "        R = group['R'].tolist()\n",
    "        L = group['L'].tolist()\n",
    "        pdb_R = group['pdb_R'].tolist()\n",
    "        pdb_L = group['pdb_L'].tolist()\n",
    "        chain_uniprot_L = group['chain_uniprot_L'].tolist()\n",
    "        uniprot_R = group['uniprot_R'].tolist()\n",
    "        uniprot_L = group['uniprot_L'].tolist()\n",
    "\n",
    "        L, pdb_L, chain_uniprot_L, uniprot_L, invalidity_flags = make_random_pairs(\n",
    "            L, pdb_L, chain_uniprot_L, uniprot_L, pdb_R, uniprot_R, \n",
    "            interacting_partners, GO, max_num_attempts\n",
    "        )\n",
    "        \n",
    "        # If there are invalid pairings, execute removals and get pairs\n",
    "        paired = remove_false_negatives(R, L, uniprot_R, uniprot_L, \n",
    "            interacting_partners, GO, invalidity_flags, orig_pinder_ids\n",
    "        )\n",
    "\n",
    "        negative_ids.extend(paired)\n",
    "        negative_phyla.extend([phylum]*len(paired))\n",
    "\n",
    "    negative_records = list(zip(negative_ids, negative_phyla, negative_phyla))\n",
    "    negative_df = pd.DataFrame(\n",
    "        negative_records, \n",
    "        columns=['pinder_id', 'phylum_R', 'phylum_L']\n",
    "    ).sample(frac=1, random_state=seed).reset_index(drop=True)\n",
    "    \n",
    "    return negative_df\n",
    "\n",
    "    "
   ]
  },
  {
   "cell_type": "code",
   "execution_count": 53,
   "id": "de970895-ea39-4f2b-b294-80003d7d5ebe",
   "metadata": {},
   "outputs": [
    {
     "data": {
      "text/plain": [
       "PosixPath('/scicore/home/schwede/durair0000/.local/share/pinder/2024-02')"
      ]
     },
     "execution_count": 53,
     "metadata": {},
     "output_type": "execute_result"
    }
   ],
   "source": [
    "os.environ[\"PINDER_BASE_DIR\"] = \"/scicore/home/schwede/durair0000/.local/share/\"\n",
    "get_pinder_location()"
   ]
  },
  {
   "cell_type": "code",
   "execution_count": 54,
   "id": "f007fc0d-da6f-4e71-bac5-7b8cface420c",
   "metadata": {},
   "outputs": [
    {
     "name": "stdout",
     "output_type": "stream",
     "text": [
      "PinderLoader(split=train, monomers=holo, systems=1560682)\n",
      "PinderLoader(split=val, monomers=holo, systems=1958)\n",
      "PinderLoader(split=test, monomers=holo, systems=1955)\n"
     ]
    }
   ],
   "source": [
    "pinder_ids, uniprot_ids, train_index = select_ids(max_length_per_monomer=512)"
   ]
  },
  {
   "cell_type": "code",
   "execution_count": 33,
   "id": "f82601cf-96a0-48b5-a2c0-badaccf3e11f",
   "metadata": {},
   "outputs": [
    {
     "name": "stdout",
     "output_type": "stream",
     "text": [
      "675729 1799 1767\n",
      "20907 1937 1906\n"
     ]
    }
   ],
   "source": [
    "# Checking number of elements in each split\n",
    "print(len(pinder_ids['train']),\n",
    "      len(pinder_ids['val']),\n",
    "      len(pinder_ids['test'])\n",
    ")\n",
    "\n",
    "print(len(uniprot_ids['train']),\n",
    "      len(uniprot_ids['val']),\n",
    "      len(uniprot_ids['test'])\n",
    ")"
   ]
  },
  {
   "cell_type": "code",
   "execution_count": 34,
   "id": "7df3af2a-b115-4ec8-8950-247b1a3de70d",
   "metadata": {},
   "outputs": [],
   "source": [
    "# Selecting that that both defined UniProt IDs\n",
    "pinder_ids['train'] = [row for row in pinder_ids['train'] if not re.search(r'UNDEFINED', row, re.IGNORECASE)]\n",
    "pinder_ids['val'] = [row for row in pinder_ids['val'] if not re.search(r'UNDEFINED', row, re.IGNORECASE)]\n",
    "pinder_ids['test'] = [row for row in pinder_ids['test'] if not re.search(r'UNDEFINED', row, re.IGNORECASE)]\n",
    "\n",
    "uniprot_ids['train'].remove(\"UNDEFINED\")\n",
    "uniprot_ids['val'].remove(\"UNDEFINED\")\n",
    "uniprot_ids['test'].remove(\"UNDEFINED\")"
   ]
  },
  {
   "cell_type": "code",
   "execution_count": 35,
   "id": "9ebdca60-6e15-4274-ae87-e8fdf22ef01a",
   "metadata": {},
   "outputs": [
    {
     "name": "stdout",
     "output_type": "stream",
     "text": [
      "617197 1748 1688\n",
      "20906 1936 1905\n"
     ]
    }
   ],
   "source": [
    "# Checking number of elements in each split after removal of \"UNDEFINED\"\n",
    "print(len(pinder_ids['train']),\n",
    "      len(pinder_ids['val']),\n",
    "      len(pinder_ids['test'])\n",
    ")\n",
    "\n",
    "print(len(uniprot_ids['train']),\n",
    "      len(uniprot_ids['val']),\n",
    "      len(uniprot_ids['test'])\n",
    ")"
   ]
  },
  {
   "cell_type": "code",
   "execution_count": 36,
   "id": "073c00a5-62d8-4353-978b-2055d57b4dcd",
   "metadata": {},
   "outputs": [],
   "source": [
    "# Save UniProt IDs to a TXT file for \"ID mapping\"\n",
    "with open(UNIPROT_IDS_PATH, 'w') as f:\n",
    "    for split in [\"train\", \"val\", \"test\"]:\n",
    "        for line in uniprot_ids[split]:\n",
    "            f.write(f\"{line}\\n\")"
   ]
  },
  {
   "cell_type": "code",
   "execution_count": 8,
   "id": "b0b7f998-e9ce-4018-9eed-9e1ebd5bd706",
   "metadata": {},
   "outputs": [],
   "source": [
    "# Manually run the ID mapping on the UniProt"
   ]
  },
  {
   "cell_type": "code",
   "execution_count": 37,
   "id": "67c3212f-9a63-4823-bfe3-2215349b46c0",
   "metadata": {},
   "outputs": [],
   "source": [
    "# Determine, which UniProt IDs are belonging to eubacteria with labelled phylum\n",
    "lineages = pd.read_csv(UNIPROT_LINEAGES_PATH, sep='\\t')\n",
    "\n",
    "eubacteria_phyla = {}\n",
    "eubacteria_annotated_interactions = {}\n",
    "eubacteria_GO = {}\n",
    "\n",
    "for index, row in lineages.iterrows():\n",
    "    if isinstance(row['Taxonomic lineage (Ids)'], str) and \"2 (superkingdom)\" in row['Taxonomic lineage (Ids)']: \n",
    "        match = re.search(r'(\\d+) \\(phylum\\)', row['Taxonomic lineage (Ids)'])\n",
    "        if match:\n",
    "            phylum_tax_id = match.group(1)\n",
    "            eubacteria_phyla[row['From']] = phylum_tax_id\n",
    "            \n",
    "            # Retrieving UniProt IDs of the known interacting partners\n",
    "            if(not pd.isna(row['Interacts with'])):\n",
    "                eubacteria_annotated_interactions[row['From']] = [item.split('-')[0] for item in row['Interacts with'].split('; ')]\n",
    "            else:\n",
    "                eubacteria_annotated_interactions[row['From']] = []\n",
    "            \n",
    "            # Retrieving GO \n",
    "            if(not pd.isna(row['Gene Ontology (molecular function)'])):\n",
    "                eubacteria_GO[row['From']] = re.findall(r\"GO:\\d+\", row['Gene Ontology (molecular function)'])\n",
    "            else:\n",
    "                eubacteria_GO[row['From']] = []"
   ]
  },
  {
   "cell_type": "code",
   "execution_count": 38,
   "id": "284544b4-bae4-48a3-8087-f21504d0745b",
   "metadata": {},
   "outputs": [],
   "source": [
    "# Determine, which PINDER IDs contain both bacterial proteins\n",
    "eubacteria_pinder_ids = {'train': [], 'val': [], 'test': []}\n",
    "eubacteria_pinder_phyla = {}\n",
    "\n",
    "for split in [\"train\", \"val\", \"test\"]:\n",
    "    for id in pinder_ids[split]:\n",
    "        uniprot1 = id.split(\"--\")[0].split(\"_\")[-1]\n",
    "        uniprot2 = id.split(\"--\")[1].split(\"_\")[-1]\n",
    "        if(uniprot1 in eubacteria_phyla.keys() and uniprot2 in eubacteria_phyla.keys()):\n",
    "            eubacteria_pinder_ids[split].append(id)\n",
    "            eubacteria_pinder_phyla[id] = [eubacteria_phyla[uniprot1], eubacteria_phyla[uniprot2]]"
   ]
  },
  {
   "cell_type": "code",
   "execution_count": 39,
   "id": "0bf36719-20e2-4059-941f-e34aa313d12b",
   "metadata": {},
   "outputs": [
    {
     "name": "stdout",
     "output_type": "stream",
     "text": [
      "86221 906 885\n"
     ]
    }
   ],
   "source": [
    "print(len(eubacteria_pinder_ids['train']),\n",
    "      len(eubacteria_pinder_ids['val']),\n",
    "      len(eubacteria_pinder_ids['test'])\n",
    ")"
   ]
  },
  {
   "cell_type": "code",
   "execution_count": 40,
   "id": "2c897770-537a-442b-96d9-7c13bfd4984d",
   "metadata": {},
   "outputs": [],
   "source": [
    "# Remove redundancy from the training set\n",
    "mask = train_index['id'].isin(eubacteria_pinder_ids['train'])\n",
    "eubacteria_train_index = train_index[mask]\n",
    "eubacteria_pinder_ids['train'] = reduce_train_redundancy(eubacteria_pinder_ids['train'], eubacteria_train_index, max_per_cluster=5)"
   ]
  },
  {
   "cell_type": "code",
   "execution_count": 41,
   "id": "259f3538-e7e8-4fa2-907b-aaf46d39d17c",
   "metadata": {},
   "outputs": [
    {
     "name": "stdout",
     "output_type": "stream",
     "text": [
      "8283 906 885\n"
     ]
    }
   ],
   "source": [
    "# Number of elements in each split after redundancy removal\n",
    "print(len(eubacteria_pinder_ids['train']),\n",
    "      len(eubacteria_pinder_ids['val']),\n",
    "      len(eubacteria_pinder_ids['test'])\n",
    ")"
   ]
  },
  {
   "cell_type": "code",
   "execution_count": 42,
   "id": "1ca0c57b-ee13-4952-87b9-bb0d5588273b",
   "metadata": {},
   "outputs": [
    {
     "name": "stdout",
     "output_type": "stream",
     "text": [
      "Split\tClass\tNumber of instances\n",
      "train\t0\t7670\n",
      "train\t1\t7670\n",
      "val\t0\t823\n",
      "val\t1\t823\n",
      "test\t0\t827\n",
      "test\t1\t827\n"
     ]
    }
   ],
   "source": [
    "# Save IDs and phyla\n",
    "print(f\"Split\\tClass\\tNumber of instances\")\n",
    "\n",
    "for split in [\"train\", \"val\", \"test\"]:\n",
    "    split_positives = []\n",
    "    for id in eubacteria_pinder_ids[split]:\n",
    "        record = {\"pinder_id\": id, \"phylum_R\": eubacteria_pinder_phyla[id][0], \"phylum_L\": eubacteria_pinder_phyla[id][1]}\n",
    "        split_positives.append(record)\n",
    "\n",
    "    split_positives = pd.DataFrame.from_dict(split_positives)\n",
    "    split_negatives = make_negative_pairs(split_positives, eubacteria_annotated_interactions, eubacteria_GO)\n",
    "    split_positives = split_positives[[\"pinder_id\", \"phylum_R\", \"phylum_L\"]]\n",
    "\n",
    "    # Balancing the set\n",
    "    split_positives = split_positives.sample(n=len(split_negatives))\n",
    "\n",
    "    # Labelling the set\n",
    "    split_negatives['label'] = [0]*len(split_negatives)\n",
    "    split_positives['label'] = [1]*len(split_positives)\n",
    "\n",
    "    # Summary of the split\n",
    "    print(f\"{split}\\t0\\t{len(split_negatives)}\\n{split}\\t1\\t{len(split_positives)}\")\n",
    "\n",
    "    # Merging the classes\n",
    "    split_all = pd.concat([split_positives, split_negatives])\n",
    "    \n",
    "    # Shuffling\n",
    "    split_all = split_all.sample(frac=1).reset_index(drop=True)\n",
    "\n",
    "    # Saving\n",
    "    split_all.to_csv(f\"{SPLITS_DIR}/{split}.csv\", index=False)"
   ]
  },
  {
   "cell_type": "code",
   "execution_count": 59,
   "id": "d194d35f-bfb8-46ab-af28-b97965a24749",
   "metadata": {},
   "outputs": [
    {
     "name": "stdout",
     "output_type": "stream",
     "text": [
      "MIDKSAFVHPTAIVEEGASIGANAHIGPFCIVGPHVEIGEGTVLKSHVVVNGHTKIGRDNEIYQFASIGEVNQDLKYAGEPTRVEIGDRNRIRESVTIHRGTVQGGGLTKVGSDNLLMINAHIAHDCTVGNRCILANNATLAGHVSVDDFAIIGGMTAVHQFCIIGAHVMVGGCSGVAQDVPPYVIAQGNHATPFGVNIEGLKRRGFSREAITAIRNAYKLIYRSGKTLDEVKPEIAELAETYPEVKAFTDFFARSTRGLIR\n",
      "MNRSVNIAKNLIQTYRAMSVQSRFAFSTREEEWLDKRTKSQEKVYFDQEDRKAMKRLLEKLNTTSKFVEDSEYLAPQNLEVENILKRYHINYTQALIDELVDWKTGKN\n",
      "MARFRGSNWKKSRRLGISLSGTGKELEKRPYAPGQHGPNQRKKLSEYGLQLREKQKLRYLYGMTERQFRNTFDIAGKKFGVHGENFMILLASRLDAVVYSLGLARTRRQARQLVNHGHILVDGKRVDIPSYSVKPGQTISVREKSQKLNIIVESVEINNFVPEYLNFDADSLTGTFVRLPERSELPAEINEQLIVEYYSR\n",
      "MALHVPKAPGFAQMLKEGAKHFSGLEEAVYRNIQACKELAQTTRTAYGPNGMNKMVINHLEKLFVTNDAATILRELEVQHPAAKMIVMASHMQEQEVGDGTNFVLVFAGALLELAEELLRIGLSVSEVIEGYEIACRKAHEILPNLVCCSAKNLRDIDEVSSLLRTSIMSKQYGNEVFLAKLIAQACVSIFPDSGHFNVDNIRVCKILGSGISSSSVLHGMVFKKETEGDVTSVKDAKIAVYSCPFDGMITETKGTVLIKTAEELMNFSKGEENLMDAQVKAIADTGANVVVTGGKVADMALHYANKYNIMLVRLNSKWDLRRLCKTVGATALPRLTPPVLEEMGHCDSVYLSEVGDTQVVVFKHEKEDGAISTIVLRGSTDNLMDDIERAVDDGVNTFKVLTRDKRLVPGGGATEIELAKQITSYGETCPGLEQYAIKKFAEAFEAIPRALAENSGVKANEVISKLYAVHQEGNKNVGLDIEAEVPAVKDMLEAGILDTYLGKYWAIKLATNAAVTVLRVDQIIMAKPAGGPKPPSGKKDWDDDQND\n",
      "MENPRCPRRPLAEKKARSLDRPQAPGKGSESWDCHWLSLPTAPSRKALHWTTSDWARHSDSPAPSAEAHCTTAAAPTPEETGDFLPSEQRPSQDTKKGWLKTMLNFFVRTGPEEPREKASRRPRGKEGISQHPEPLEAAGEPALRKKAHHDKKPSRKKQGHKKHAAEVTKAAQDQEARGREEGLSKAAAALRSGEADLGPARRGGEDSDHQSFLIKVDGTGALDVSPHATGHQQEEELKKPDQDAIIQMIVELLKRVGDQWEEEQSLASQLGVALPNPAPAVRKKSQEKKTSLKRTSKTNPKKHGSEEAKRGAADVSSPEAWPPKKSSFLPLCVSGHRPSISSSYGLEEPKVQEAPSTEAGAPGPSVLPTPSESQEPGEELPLDRASEYKEFIQKIISMLQDAEEQQGEEQPQVQQEEVGVENPAPHCRRKSQEKRSSFRRAFYHKKHTSKEPRRAGAAGAASPEARRPKRPSFLPLCVGGHRPSTSSSLDPEDLECREPLPAEGEPVVISEAPSQARGHTPEGAPQLSGACESKEIIIQKLVALLQEVDGQLGQQIRRHPSFKRFFYEFSDSSLSKLVATLRSQVAHSSKLDRNRARRLYQFDVSLANKFAGSNSHAMCILMGLRDHYNCTQFPYREDQPNITSPKVESPD\n",
      "MSTEGGFGGTSSSDAQQSLQSFWPRVMEEIRNLTVKDFRVQELPLARIKKIMKLDEDVKMISAEAPVLFAKAAQIFITELTLRAWIHTEDNKRRTLQRNDIAMAITKFDQFDFLIDIVPRDELKPPKRQEEVRQSVTPAEPVQYYFTLAQQPTAVQVQGQQQGQQTTSSTTTIQPGQIIIAQPQQGQTTPVTMQVGEGQQVQIVQAQPQGQAQQAQSGTGQTMQVMQQIITNTGEIQQIPVQLNAGQLQYIRLAQPVSGTQVVQGQIQTLATNAQQGQRNASQGKPRRCLKETLQITQTEVQQGQQQFSQFTDGQRNSVQQARVSELTGEAEPREVKATGNSTPCTSSLPTTHPPSHRAGASCVCCSQPQQSSTSPPPSDALQWVVVEVSGTPNQLETHRELHAPLPGMTSLSPLHPSQQLYQIQQVTMPAGQDLAQPMFIQSANQPSDGQAPQVTGD\n",
      "MALQADFDRAAEDVRKLKARPDDGELKELYGLYKQAIVGDINIACPGMLDLKGKAKWEAWNLKKGLSTEDATSAYISKAKELIEKYGI\n",
      "MPETDFEEKMILIRRTARMQAGGRRFRFGALVVVGDRQGRVGLGFGKAPEVPLAVQKAGYYARRNMVEVPLQNGTIPHEIEVEFGASKIVLKPAAPGTGVIAGAVPRAILELAGVTDILTKELGSRNPINIAYATMEALRQLRTKADVERLRKGEAHAQAQG\n",
      "MGHSNIWNAHPKYYGPGSRTCRVCGNPHAIIRKYGLMCCRQCFRSNAKEIGFIKYR\n",
      "MAKTVLRQYWDIPEGTECHRKTYATTSIGGAAGLVVSAYSVALKTPTSFLEGVARTGRYTFTAAAIGAIFGLTSCISAQVREKPDDPLNYLIGGCAGGLILGARTRSYGIGAAACAYMGLTAALVKMGQLEGWQVFAEPKV\n"
     ]
    }
   ],
   "source": [
    "from Bio import SeqIO\n",
    "\n",
    "fasta_sequences = SeqIO.parse(\"/scicore/home/schwede/pudziu0000/projects/gLM/data/PINDER/uniprot_seqs_1024_512.fasta\",'fasta')\n",
    "\n",
    "for i, record in enumerate(fasta_sequences):\n",
    "    if(i < 10): \n",
    "        print(record.seq)\n"
   ]
  },
  {
   "cell_type": "code",
   "execution_count": 51,
   "id": "4ecb63c4-1e90-4162-afd4-b8d6a2f1882b",
   "metadata": {},
   "outputs": [
    {
     "name": "stderr",
     "output_type": "stream",
     "text": [
      "2025-03-27 18:52:46,887 | pinder.core.utils.cloud:375 | INFO : Gsutil process_many=download_to_filename, threads=7, items=7\n",
      "2025-03-27 18:54:45,010 | pinder.core.utils.cloud.process_many:25 | ERROR : runtime failed:    118.12s\n"
     ]
    },
    {
     "ename": "RetryError",
     "evalue": "Timeout of 120.0s exceeded, last exception: HTTPSConnectionPool(host='storage.googleapis.com', port=443): Max retries exceeded with url: /storage/v1/b/pinder/o/2024-02%2Fpdbs%2F5u9f__RA1_P0A7W1--5u9f__D1_P36675.pdb?projection=noAcl&prettyPrint=false (Caused by ProxyError('Unable to connect to proxy', OSError('Tunnel connection failed: 403 Forbidden')))",
     "output_type": "error",
     "traceback": [
      "\u001b[0;31m---------------------------------------------------------------------------\u001b[0m",
      "\u001b[0;31mOSError\u001b[0m                                   Traceback (most recent call last)",
      "File \u001b[0;32m~/mambaforge/envs/glam/lib/python3.11/site-packages/urllib3/connectionpool.py:773\u001b[0m, in \u001b[0;36mHTTPConnectionPool.urlopen\u001b[0;34m(self, method, url, body, headers, retries, redirect, assert_same_host, timeout, pool_timeout, release_conn, chunked, body_pos, preload_content, decode_content, **response_kw)\u001b[0m\n\u001b[1;32m    772\u001b[0m \u001b[38;5;28;01mtry\u001b[39;00m:\n\u001b[0;32m--> 773\u001b[0m     \u001b[38;5;28mself\u001b[39m\u001b[38;5;241m.\u001b[39m_prepare_proxy(conn)\n\u001b[1;32m    774\u001b[0m \u001b[38;5;28;01mexcept\u001b[39;00m (BaseSSLError, \u001b[38;5;167;01mOSError\u001b[39;00m, SocketTimeout) \u001b[38;5;28;01mas\u001b[39;00m e:\n",
      "File \u001b[0;32m~/mambaforge/envs/glam/lib/python3.11/site-packages/urllib3/connectionpool.py:1042\u001b[0m, in \u001b[0;36mHTTPSConnectionPool._prepare_proxy\u001b[0;34m(self, conn)\u001b[0m\n\u001b[1;32m   1036\u001b[0m conn\u001b[38;5;241m.\u001b[39mset_tunnel(\n\u001b[1;32m   1037\u001b[0m     scheme\u001b[38;5;241m=\u001b[39mtunnel_scheme,\n\u001b[1;32m   1038\u001b[0m     host\u001b[38;5;241m=\u001b[39m\u001b[38;5;28mself\u001b[39m\u001b[38;5;241m.\u001b[39m_tunnel_host,\n\u001b[1;32m   1039\u001b[0m     port\u001b[38;5;241m=\u001b[39m\u001b[38;5;28mself\u001b[39m\u001b[38;5;241m.\u001b[39mport,\n\u001b[1;32m   1040\u001b[0m     headers\u001b[38;5;241m=\u001b[39m\u001b[38;5;28mself\u001b[39m\u001b[38;5;241m.\u001b[39mproxy_headers,\n\u001b[1;32m   1041\u001b[0m )\n\u001b[0;32m-> 1042\u001b[0m conn\u001b[38;5;241m.\u001b[39mconnect()\n",
      "File \u001b[0;32m~/mambaforge/envs/glam/lib/python3.11/site-packages/urllib3/connection.py:721\u001b[0m, in \u001b[0;36mHTTPSConnection.connect\u001b[0;34m(self)\u001b[0m\n\u001b[1;32m    719\u001b[0m \u001b[38;5;28mself\u001b[39m\u001b[38;5;241m.\u001b[39m_has_connected_to_proxy \u001b[38;5;241m=\u001b[39m \u001b[38;5;28;01mTrue\u001b[39;00m\n\u001b[0;32m--> 721\u001b[0m \u001b[38;5;28mself\u001b[39m\u001b[38;5;241m.\u001b[39m_tunnel()\n\u001b[1;32m    722\u001b[0m \u001b[38;5;66;03m# Override the host with the one we're requesting data from.\u001b[39;00m\n",
      "File \u001b[0;32m~/mambaforge/envs/glam/lib/python3.11/http/client.py:943\u001b[0m, in \u001b[0;36mHTTPConnection._tunnel\u001b[0;34m(self)\u001b[0m\n\u001b[1;32m    942\u001b[0m     \u001b[38;5;28mself\u001b[39m\u001b[38;5;241m.\u001b[39mclose()\n\u001b[0;32m--> 943\u001b[0m     \u001b[38;5;28;01mraise\u001b[39;00m \u001b[38;5;167;01mOSError\u001b[39;00m(\u001b[38;5;124mf\u001b[39m\u001b[38;5;124m\"\u001b[39m\u001b[38;5;124mTunnel connection failed: \u001b[39m\u001b[38;5;132;01m{\u001b[39;00mcode\u001b[38;5;132;01m}\u001b[39;00m\u001b[38;5;124m \u001b[39m\u001b[38;5;132;01m{\u001b[39;00mmessage\u001b[38;5;241m.\u001b[39mstrip()\u001b[38;5;132;01m}\u001b[39;00m\u001b[38;5;124m\"\u001b[39m)\n\u001b[1;32m    944\u001b[0m \u001b[38;5;28;01mwhile\u001b[39;00m \u001b[38;5;28;01mTrue\u001b[39;00m:\n",
      "\u001b[0;31mOSError\u001b[0m: Tunnel connection failed: 403 Forbidden",
      "\nThe above exception was the direct cause of the following exception:\n",
      "\u001b[0;31mProxyError\u001b[0m                                Traceback (most recent call last)",
      "\u001b[0;31mProxyError\u001b[0m: ('Unable to connect to proxy', OSError('Tunnel connection failed: 403 Forbidden'))",
      "\nThe above exception was the direct cause of the following exception:\n",
      "\u001b[0;31mMaxRetryError\u001b[0m                             Traceback (most recent call last)",
      "File \u001b[0;32m~/mambaforge/envs/glam/lib/python3.11/site-packages/requests/adapters.py:667\u001b[0m, in \u001b[0;36mHTTPAdapter.send\u001b[0;34m(self, request, stream, timeout, verify, cert, proxies)\u001b[0m\n\u001b[1;32m    666\u001b[0m \u001b[38;5;28;01mtry\u001b[39;00m:\n\u001b[0;32m--> 667\u001b[0m     resp \u001b[38;5;241m=\u001b[39m conn\u001b[38;5;241m.\u001b[39murlopen(\n\u001b[1;32m    668\u001b[0m         method\u001b[38;5;241m=\u001b[39mrequest\u001b[38;5;241m.\u001b[39mmethod,\n\u001b[1;32m    669\u001b[0m         url\u001b[38;5;241m=\u001b[39murl,\n\u001b[1;32m    670\u001b[0m         body\u001b[38;5;241m=\u001b[39mrequest\u001b[38;5;241m.\u001b[39mbody,\n\u001b[1;32m    671\u001b[0m         headers\u001b[38;5;241m=\u001b[39mrequest\u001b[38;5;241m.\u001b[39mheaders,\n\u001b[1;32m    672\u001b[0m         redirect\u001b[38;5;241m=\u001b[39m\u001b[38;5;28;01mFalse\u001b[39;00m,\n\u001b[1;32m    673\u001b[0m         assert_same_host\u001b[38;5;241m=\u001b[39m\u001b[38;5;28;01mFalse\u001b[39;00m,\n\u001b[1;32m    674\u001b[0m         preload_content\u001b[38;5;241m=\u001b[39m\u001b[38;5;28;01mFalse\u001b[39;00m,\n\u001b[1;32m    675\u001b[0m         decode_content\u001b[38;5;241m=\u001b[39m\u001b[38;5;28;01mFalse\u001b[39;00m,\n\u001b[1;32m    676\u001b[0m         retries\u001b[38;5;241m=\u001b[39m\u001b[38;5;28mself\u001b[39m\u001b[38;5;241m.\u001b[39mmax_retries,\n\u001b[1;32m    677\u001b[0m         timeout\u001b[38;5;241m=\u001b[39mtimeout,\n\u001b[1;32m    678\u001b[0m         chunked\u001b[38;5;241m=\u001b[39mchunked,\n\u001b[1;32m    679\u001b[0m     )\n\u001b[1;32m    681\u001b[0m \u001b[38;5;28;01mexcept\u001b[39;00m (ProtocolError, \u001b[38;5;167;01mOSError\u001b[39;00m) \u001b[38;5;28;01mas\u001b[39;00m err:\n",
      "File \u001b[0;32m~/mambaforge/envs/glam/lib/python3.11/site-packages/urllib3/connectionpool.py:841\u001b[0m, in \u001b[0;36mHTTPConnectionPool.urlopen\u001b[0;34m(self, method, url, body, headers, retries, redirect, assert_same_host, timeout, pool_timeout, release_conn, chunked, body_pos, preload_content, decode_content, **response_kw)\u001b[0m\n\u001b[1;32m    839\u001b[0m     new_e \u001b[38;5;241m=\u001b[39m ProtocolError(\u001b[38;5;124m\"\u001b[39m\u001b[38;5;124mConnection aborted.\u001b[39m\u001b[38;5;124m\"\u001b[39m, new_e)\n\u001b[0;32m--> 841\u001b[0m retries \u001b[38;5;241m=\u001b[39m retries\u001b[38;5;241m.\u001b[39mincrement(\n\u001b[1;32m    842\u001b[0m     method, url, error\u001b[38;5;241m=\u001b[39mnew_e, _pool\u001b[38;5;241m=\u001b[39m\u001b[38;5;28mself\u001b[39m, _stacktrace\u001b[38;5;241m=\u001b[39msys\u001b[38;5;241m.\u001b[39mexc_info()[\u001b[38;5;241m2\u001b[39m]\n\u001b[1;32m    843\u001b[0m )\n\u001b[1;32m    844\u001b[0m retries\u001b[38;5;241m.\u001b[39msleep()\n",
      "File \u001b[0;32m~/mambaforge/envs/glam/lib/python3.11/site-packages/urllib3/util/retry.py:519\u001b[0m, in \u001b[0;36mRetry.increment\u001b[0;34m(self, method, url, response, error, _pool, _stacktrace)\u001b[0m\n\u001b[1;32m    518\u001b[0m     reason \u001b[38;5;241m=\u001b[39m error \u001b[38;5;129;01mor\u001b[39;00m ResponseError(cause)\n\u001b[0;32m--> 519\u001b[0m     \u001b[38;5;28;01mraise\u001b[39;00m MaxRetryError(_pool, url, reason) \u001b[38;5;28;01mfrom\u001b[39;00m \u001b[38;5;21;01mreason\u001b[39;00m  \u001b[38;5;66;03m# type: ignore[arg-type]\u001b[39;00m\n\u001b[1;32m    521\u001b[0m log\u001b[38;5;241m.\u001b[39mdebug(\u001b[38;5;124m\"\u001b[39m\u001b[38;5;124mIncremented Retry for (url=\u001b[39m\u001b[38;5;124m'\u001b[39m\u001b[38;5;132;01m%s\u001b[39;00m\u001b[38;5;124m'\u001b[39m\u001b[38;5;124m): \u001b[39m\u001b[38;5;132;01m%r\u001b[39;00m\u001b[38;5;124m\"\u001b[39m, url, new_retry)\n",
      "\u001b[0;31mMaxRetryError\u001b[0m: HTTPSConnectionPool(host='storage.googleapis.com', port=443): Max retries exceeded with url: /storage/v1/b/pinder/o/2024-02%2Fpdbs%2F5u9f__RA1_P0A7W1--5u9f__D1_P36675.pdb?projection=noAcl&prettyPrint=false (Caused by ProxyError('Unable to connect to proxy', OSError('Tunnel connection failed: 403 Forbidden')))",
      "\nDuring handling of the above exception, another exception occurred:\n",
      "\u001b[0;31mProxyError\u001b[0m                                Traceback (most recent call last)",
      "File \u001b[0;32m~/mambaforge/envs/glam/lib/python3.11/site-packages/google/api_core/retry/retry_unary.py:144\u001b[0m, in \u001b[0;36mretry_target\u001b[0;34m(target, predicate, sleep_generator, timeout, on_error, exception_factory, **kwargs)\u001b[0m\n\u001b[1;32m    143\u001b[0m \u001b[38;5;28;01mtry\u001b[39;00m:\n\u001b[0;32m--> 144\u001b[0m     result \u001b[38;5;241m=\u001b[39m target()\n\u001b[1;32m    145\u001b[0m     \u001b[38;5;28;01mif\u001b[39;00m inspect\u001b[38;5;241m.\u001b[39misawaitable(result):\n",
      "File \u001b[0;32m~/mambaforge/envs/glam/lib/python3.11/site-packages/google/cloud/_http/__init__.py:482\u001b[0m, in \u001b[0;36mJSONConnection.api_request\u001b[0;34m(self, method, path, query_params, data, content_type, headers, api_base_url, api_version, expect_json, _target_object, timeout, extra_api_info)\u001b[0m\n\u001b[1;32m    480\u001b[0m     content_type \u001b[38;5;241m=\u001b[39m \u001b[38;5;124m\"\u001b[39m\u001b[38;5;124mapplication/json\u001b[39m\u001b[38;5;124m\"\u001b[39m\n\u001b[0;32m--> 482\u001b[0m response \u001b[38;5;241m=\u001b[39m \u001b[38;5;28mself\u001b[39m\u001b[38;5;241m.\u001b[39m_make_request(\n\u001b[1;32m    483\u001b[0m     method\u001b[38;5;241m=\u001b[39mmethod,\n\u001b[1;32m    484\u001b[0m     url\u001b[38;5;241m=\u001b[39murl,\n\u001b[1;32m    485\u001b[0m     data\u001b[38;5;241m=\u001b[39mdata,\n\u001b[1;32m    486\u001b[0m     content_type\u001b[38;5;241m=\u001b[39mcontent_type,\n\u001b[1;32m    487\u001b[0m     headers\u001b[38;5;241m=\u001b[39mheaders,\n\u001b[1;32m    488\u001b[0m     target_object\u001b[38;5;241m=\u001b[39m_target_object,\n\u001b[1;32m    489\u001b[0m     timeout\u001b[38;5;241m=\u001b[39mtimeout,\n\u001b[1;32m    490\u001b[0m     extra_api_info\u001b[38;5;241m=\u001b[39mextra_api_info,\n\u001b[1;32m    491\u001b[0m )\n\u001b[1;32m    493\u001b[0m \u001b[38;5;28;01mif\u001b[39;00m \u001b[38;5;129;01mnot\u001b[39;00m \u001b[38;5;241m200\u001b[39m \u001b[38;5;241m<\u001b[39m\u001b[38;5;241m=\u001b[39m response\u001b[38;5;241m.\u001b[39mstatus_code \u001b[38;5;241m<\u001b[39m \u001b[38;5;241m300\u001b[39m:\n",
      "File \u001b[0;32m~/mambaforge/envs/glam/lib/python3.11/site-packages/google/cloud/_http/__init__.py:341\u001b[0m, in \u001b[0;36mJSONConnection._make_request\u001b[0;34m(self, method, url, data, content_type, headers, target_object, timeout, extra_api_info)\u001b[0m\n\u001b[1;32m    339\u001b[0m headers[\u001b[38;5;124m\"\u001b[39m\u001b[38;5;124mUser-Agent\u001b[39m\u001b[38;5;124m\"\u001b[39m] \u001b[38;5;241m=\u001b[39m \u001b[38;5;28mself\u001b[39m\u001b[38;5;241m.\u001b[39muser_agent\n\u001b[0;32m--> 341\u001b[0m \u001b[38;5;28;01mreturn\u001b[39;00m \u001b[38;5;28mself\u001b[39m\u001b[38;5;241m.\u001b[39m_do_request(\n\u001b[1;32m    342\u001b[0m     method, url, headers, data, target_object, timeout\u001b[38;5;241m=\u001b[39mtimeout\n\u001b[1;32m    343\u001b[0m )\n",
      "File \u001b[0;32m~/mambaforge/envs/glam/lib/python3.11/site-packages/google/cloud/_http/__init__.py:379\u001b[0m, in \u001b[0;36mJSONConnection._do_request\u001b[0;34m(self, method, url, headers, data, target_object, timeout)\u001b[0m\n\u001b[1;32m    348\u001b[0m \u001b[38;5;250m\u001b[39m\u001b[38;5;124;03m\"\"\"Low-level helper:  perform the actual API request over HTTP.\u001b[39;00m\n\u001b[1;32m    349\u001b[0m \n\u001b[1;32m    350\u001b[0m \u001b[38;5;124;03mAllows batch context managers to override and defer a request.\u001b[39;00m\n\u001b[0;32m   (...)\u001b[0m\n\u001b[1;32m    377\u001b[0m \u001b[38;5;124;03m:returns: The HTTP response.\u001b[39;00m\n\u001b[1;32m    378\u001b[0m \u001b[38;5;124;03m\"\"\"\u001b[39;00m\n\u001b[0;32m--> 379\u001b[0m \u001b[38;5;28;01mreturn\u001b[39;00m \u001b[38;5;28mself\u001b[39m\u001b[38;5;241m.\u001b[39mhttp\u001b[38;5;241m.\u001b[39mrequest(\n\u001b[1;32m    380\u001b[0m     url\u001b[38;5;241m=\u001b[39murl, method\u001b[38;5;241m=\u001b[39mmethod, headers\u001b[38;5;241m=\u001b[39mheaders, data\u001b[38;5;241m=\u001b[39mdata, timeout\u001b[38;5;241m=\u001b[39mtimeout\n\u001b[1;32m    381\u001b[0m )\n",
      "File \u001b[0;32m~/mambaforge/envs/glam/lib/python3.11/site-packages/google/auth/transport/requests.py:537\u001b[0m, in \u001b[0;36mAuthorizedSession.request\u001b[0;34m(self, method, url, data, headers, max_allowed_time, timeout, **kwargs)\u001b[0m\n\u001b[1;32m    536\u001b[0m \u001b[38;5;28;01mwith\u001b[39;00m TimeoutGuard(remaining_time) \u001b[38;5;28;01mas\u001b[39;00m guard:\n\u001b[0;32m--> 537\u001b[0m     response \u001b[38;5;241m=\u001b[39m \u001b[38;5;28msuper\u001b[39m(AuthorizedSession, \u001b[38;5;28mself\u001b[39m)\u001b[38;5;241m.\u001b[39mrequest(\n\u001b[1;32m    538\u001b[0m         method,\n\u001b[1;32m    539\u001b[0m         url,\n\u001b[1;32m    540\u001b[0m         data\u001b[38;5;241m=\u001b[39mdata,\n\u001b[1;32m    541\u001b[0m         headers\u001b[38;5;241m=\u001b[39mrequest_headers,\n\u001b[1;32m    542\u001b[0m         timeout\u001b[38;5;241m=\u001b[39mtimeout,\n\u001b[1;32m    543\u001b[0m         \u001b[38;5;241m*\u001b[39m\u001b[38;5;241m*\u001b[39mkwargs\n\u001b[1;32m    544\u001b[0m     )\n\u001b[1;32m    545\u001b[0m remaining_time \u001b[38;5;241m=\u001b[39m guard\u001b[38;5;241m.\u001b[39mremaining_timeout\n",
      "File \u001b[0;32m~/mambaforge/envs/glam/lib/python3.11/site-packages/requests/sessions.py:589\u001b[0m, in \u001b[0;36mSession.request\u001b[0;34m(self, method, url, params, data, headers, cookies, files, auth, timeout, allow_redirects, proxies, hooks, stream, verify, cert, json)\u001b[0m\n\u001b[1;32m    588\u001b[0m send_kwargs\u001b[38;5;241m.\u001b[39mupdate(settings)\n\u001b[0;32m--> 589\u001b[0m resp \u001b[38;5;241m=\u001b[39m \u001b[38;5;28mself\u001b[39m\u001b[38;5;241m.\u001b[39msend(prep, \u001b[38;5;241m*\u001b[39m\u001b[38;5;241m*\u001b[39msend_kwargs)\n\u001b[1;32m    591\u001b[0m \u001b[38;5;28;01mreturn\u001b[39;00m resp\n",
      "File \u001b[0;32m~/mambaforge/envs/glam/lib/python3.11/site-packages/requests/sessions.py:703\u001b[0m, in \u001b[0;36mSession.send\u001b[0;34m(self, request, **kwargs)\u001b[0m\n\u001b[1;32m    702\u001b[0m \u001b[38;5;66;03m# Send the request\u001b[39;00m\n\u001b[0;32m--> 703\u001b[0m r \u001b[38;5;241m=\u001b[39m adapter\u001b[38;5;241m.\u001b[39msend(request, \u001b[38;5;241m*\u001b[39m\u001b[38;5;241m*\u001b[39mkwargs)\n\u001b[1;32m    705\u001b[0m \u001b[38;5;66;03m# Total elapsed time of the request (approximately)\u001b[39;00m\n",
      "File \u001b[0;32m~/mambaforge/envs/glam/lib/python3.11/site-packages/requests/adapters.py:694\u001b[0m, in \u001b[0;36mHTTPAdapter.send\u001b[0;34m(self, request, stream, timeout, verify, cert, proxies)\u001b[0m\n\u001b[1;32m    693\u001b[0m \u001b[38;5;28;01mif\u001b[39;00m \u001b[38;5;28misinstance\u001b[39m(e\u001b[38;5;241m.\u001b[39mreason, _ProxyError):\n\u001b[0;32m--> 694\u001b[0m     \u001b[38;5;28;01mraise\u001b[39;00m ProxyError(e, request\u001b[38;5;241m=\u001b[39mrequest)\n\u001b[1;32m    696\u001b[0m \u001b[38;5;28;01mif\u001b[39;00m \u001b[38;5;28misinstance\u001b[39m(e\u001b[38;5;241m.\u001b[39mreason, _SSLError):\n\u001b[1;32m    697\u001b[0m     \u001b[38;5;66;03m# This branch is for urllib3 v1.22 and later.\u001b[39;00m\n",
      "\u001b[0;31mProxyError\u001b[0m: HTTPSConnectionPool(host='storage.googleapis.com', port=443): Max retries exceeded with url: /storage/v1/b/pinder/o/2024-02%2Fpdbs%2F5u9f__RA1_P0A7W1--5u9f__D1_P36675.pdb?projection=noAcl&prettyPrint=false (Caused by ProxyError('Unable to connect to proxy', OSError('Tunnel connection failed: 403 Forbidden')))",
      "\nThe above exception was the direct cause of the following exception:\n",
      "\u001b[0;31mRetryError\u001b[0m                                Traceback (most recent call last)",
      "Cell \u001b[0;32mIn[51], line 1\u001b[0m\n\u001b[0;32m----> 1\u001b[0m seq_R, seq_L \u001b[38;5;241m=\u001b[39m get_sequences(\u001b[38;5;124m\"\u001b[39m\u001b[38;5;124m5u9f__RA1_P0A7W1--5u9f__D1_P36675\u001b[39m\u001b[38;5;124m\"\u001b[39m)\n",
      "Cell \u001b[0;32mIn[45], line 2\u001b[0m, in \u001b[0;36mget_sequences\u001b[0;34m(system_id)\u001b[0m\n\u001b[1;32m      1\u001b[0m \u001b[38;5;28;01mdef\u001b[39;00m \u001b[38;5;21mget_sequences\u001b[39m(system_id):\n\u001b[0;32m----> 2\u001b[0m     system \u001b[38;5;241m=\u001b[39m PinderSystem(system_id)\n\u001b[1;32m      3\u001b[0m     seq_r, seq_l \u001b[38;5;241m=\u001b[39m system\u001b[38;5;241m.\u001b[39mnative_R\u001b[38;5;241m.\u001b[39msequence, system\u001b[38;5;241m.\u001b[39mnative_L\u001b[38;5;241m.\u001b[39msequence\n\u001b[1;32m      4\u001b[0m     \u001b[38;5;28;01mreturn\u001b[39;00m seq_r, seq_l\n",
      "File \u001b[0;32m~/mambaforge/envs/glam/lib/python3.11/site-packages/pinder/core/index/system.py:142\u001b[0m, in \u001b[0;36mPinderSystem.__init__\u001b[0;34m(self, entry, apo_receptor_pdb_code, apo_ligand_pdb_code, metadata, dataset_path, pdb_engine, **kwargs)\u001b[0m\n\u001b[1;32m    140\u001b[0m \u001b[38;5;28mself\u001b[39m\u001b[38;5;241m.\u001b[39mmappings_path \u001b[38;5;241m=\u001b[39m \u001b[38;5;28mself\u001b[39m\u001b[38;5;241m.\u001b[39mpinder_root \u001b[38;5;241m/\u001b[39m \u001b[38;5;124m\"\u001b[39m\u001b[38;5;124mmappings\u001b[39m\u001b[38;5;124m\"\u001b[39m\n\u001b[1;32m    141\u001b[0m \u001b[38;5;28mself\u001b[39m\u001b[38;5;241m.\u001b[39mpdb_engine \u001b[38;5;241m=\u001b[39m pdb_engine\n\u001b[0;32m--> 142\u001b[0m \u001b[38;5;28mself\u001b[39m\u001b[38;5;241m.\u001b[39mdownload_entry()\n\u001b[1;32m    144\u001b[0m \u001b[38;5;28mself\u001b[39m\u001b[38;5;241m.\u001b[39mnative \u001b[38;5;241m=\u001b[39m \u001b[38;5;28mself\u001b[39m\u001b[38;5;241m.\u001b[39mload_structure(\n\u001b[1;32m    145\u001b[0m     \u001b[38;5;28mself\u001b[39m\u001b[38;5;241m.\u001b[39mpdbs_path \u001b[38;5;241m/\u001b[39m \u001b[38;5;28mself\u001b[39m\u001b[38;5;241m.\u001b[39mentry\u001b[38;5;241m.\u001b[39mpinder_pdb, pdb_engine\u001b[38;5;241m=\u001b[39m\u001b[38;5;28mself\u001b[39m\u001b[38;5;241m.\u001b[39mpdb_engine\n\u001b[1;32m    146\u001b[0m )\n\u001b[1;32m    147\u001b[0m holo_pdb_path \u001b[38;5;241m=\u001b[39m (\n\u001b[1;32m    148\u001b[0m     \u001b[38;5;28mself\u001b[39m\u001b[38;5;241m.\u001b[39mtest_pdbs_path \u001b[38;5;28;01mif\u001b[39;00m \u001b[38;5;28mself\u001b[39m\u001b[38;5;241m.\u001b[39mentry\u001b[38;5;241m.\u001b[39mtest_system \u001b[38;5;28;01melse\u001b[39;00m \u001b[38;5;28mself\u001b[39m\u001b[38;5;241m.\u001b[39mpdbs_path\n\u001b[1;32m    149\u001b[0m )\n",
      "File \u001b[0;32m~/mambaforge/envs/glam/lib/python3.11/site-packages/pinder/core/index/system.py:645\u001b[0m, in \u001b[0;36mPinderSystem.download_entry\u001b[0;34m(self)\u001b[0m\n\u001b[1;32m    643\u001b[0m \u001b[38;5;28;01mif\u001b[39;00m sources:\n\u001b[1;32m    644\u001b[0m     anchor \u001b[38;5;241m=\u001b[39m get_pinder_bucket_root()\n\u001b[0;32m--> 645\u001b[0m     gs\u001b[38;5;241m.\u001b[39mcp_paths(sources, \u001b[38;5;28mself\u001b[39m\u001b[38;5;241m.\u001b[39mpinder_root, anchor)\n",
      "File \u001b[0;32m~/mambaforge/envs/glam/lib/python3.11/site-packages/pinder/core/utils/cloud.py:616\u001b[0m, in \u001b[0;36mGsutil.cp_paths\u001b[0;34m(self, sources, target, anchor, bucket, threads)\u001b[0m\n\u001b[1;32m    614\u001b[0m     remote_keys \u001b[38;5;241m=\u001b[39m [paths\u001b[38;5;241m.\u001b[39mremote_key(path) \u001b[38;5;28;01mfor\u001b[39;00m path \u001b[38;5;129;01min\u001b[39;00m remote_paths]\n\u001b[1;32m    615\u001b[0m pairs \u001b[38;5;241m=\u001b[39m make_path_pairs(local_paths, remote_keys, bucket)\n\u001b[0;32m--> 616\u001b[0m process_many(pairs, method, threads\u001b[38;5;241m=\u001b[39mthreads \u001b[38;5;129;01mor\u001b[39;00m get_cpu_limit())\n",
      "File \u001b[0;32m~/mambaforge/envs/glam/lib/python3.11/site-packages/pinder/core/utils/timer.py:22\u001b[0m, in \u001b[0;36mtimeit.<locals>.wrapped\u001b[0;34m(*args, **kwargs)\u001b[0m\n\u001b[1;32m     20\u001b[0m result \u001b[38;5;241m=\u001b[39m \u001b[38;5;28;01mNone\u001b[39;00m\n\u001b[1;32m     21\u001b[0m \u001b[38;5;28;01mtry\u001b[39;00m:\n\u001b[0;32m---> 22\u001b[0m     result \u001b[38;5;241m=\u001b[39m func(\u001b[38;5;241m*\u001b[39margs, \u001b[38;5;241m*\u001b[39m\u001b[38;5;241m*\u001b[39mkwargs)\n\u001b[1;32m     23\u001b[0m     log\u001b[38;5;241m.\u001b[39mdebug(\u001b[38;5;124mf\u001b[39m\u001b[38;5;124m\"\u001b[39m\u001b[38;5;124mruntime succeeded: \u001b[39m\u001b[38;5;132;01m{\u001b[39;00mtime()\u001b[38;5;250m \u001b[39m\u001b[38;5;241m-\u001b[39m\u001b[38;5;250m \u001b[39mts\u001b[38;5;132;01m:\u001b[39;00m\u001b[38;5;124m>9.2f\u001b[39m\u001b[38;5;132;01m}\u001b[39;00m\u001b[38;5;124ms\u001b[39m\u001b[38;5;124m\"\u001b[39m)\n\u001b[1;32m     24\u001b[0m \u001b[38;5;28;01mexcept\u001b[39;00m \u001b[38;5;167;01mException\u001b[39;00m:\n",
      "File \u001b[0;32m~/mambaforge/envs/glam/lib/python3.11/site-packages/pinder/core/utils/cloud.py:397\u001b[0m, in \u001b[0;36mprocess_many\u001b[0;34m(path_pairs, method, global_timeout, timeout, retries, threads)\u001b[0m\n\u001b[1;32m    395\u001b[0m \u001b[38;5;28;01mfor\u001b[39;00m future \u001b[38;5;129;01min\u001b[39;00m futures:\n\u001b[1;32m    396\u001b[0m     \u001b[38;5;28;01mif\u001b[39;00m future\u001b[38;5;241m.\u001b[39mexception():\n\u001b[0;32m--> 397\u001b[0m         \u001b[38;5;28;01mraise\u001b[39;00m future\u001b[38;5;241m.\u001b[39mexception()\n",
      "File \u001b[0;32m~/mambaforge/envs/glam/lib/python3.11/concurrent/futures/thread.py:58\u001b[0m, in \u001b[0;36m_WorkItem.run\u001b[0;34m(self)\u001b[0m\n\u001b[1;32m     55\u001b[0m     \u001b[38;5;28;01mreturn\u001b[39;00m\n\u001b[1;32m     57\u001b[0m \u001b[38;5;28;01mtry\u001b[39;00m:\n\u001b[0;32m---> 58\u001b[0m     result \u001b[38;5;241m=\u001b[39m \u001b[38;5;28mself\u001b[39m\u001b[38;5;241m.\u001b[39mfn(\u001b[38;5;241m*\u001b[39m\u001b[38;5;28mself\u001b[39m\u001b[38;5;241m.\u001b[39margs, \u001b[38;5;241m*\u001b[39m\u001b[38;5;241m*\u001b[39m\u001b[38;5;28mself\u001b[39m\u001b[38;5;241m.\u001b[39mkwargs)\n\u001b[1;32m     59\u001b[0m \u001b[38;5;28;01mexcept\u001b[39;00m \u001b[38;5;167;01mBaseException\u001b[39;00m \u001b[38;5;28;01mas\u001b[39;00m exc:\n\u001b[1;32m     60\u001b[0m     \u001b[38;5;28mself\u001b[39m\u001b[38;5;241m.\u001b[39mfuture\u001b[38;5;241m.\u001b[39mset_exception(exc)\n",
      "File \u001b[0;32m~/mambaforge/envs/glam/lib/python3.11/site-packages/pinder/core/utils/cloud.py:303\u001b[0m, in \u001b[0;36mretry_blob_method\u001b[0;34m(blob, method, path, retries, timeout)\u001b[0m\n\u001b[1;32m    301\u001b[0m blob_name \u001b[38;5;241m=\u001b[39m blob\u001b[38;5;241m.\u001b[39mname\n\u001b[1;32m    302\u001b[0m \u001b[38;5;28;01mif\u001b[39;00m \u001b[38;5;129;01mnot\u001b[39;00m blob\u001b[38;5;241m.\u001b[39msize:\n\u001b[0;32m--> 303\u001b[0m     blob \u001b[38;5;241m=\u001b[39m blob\u001b[38;5;241m.\u001b[39mbucket\u001b[38;5;241m.\u001b[39mget_blob(blob\u001b[38;5;241m.\u001b[39mname)\n\u001b[1;32m    304\u001b[0m \u001b[38;5;66;03m# In case blob.size was not defined, bucket.get_blob may return a NoneType.\u001b[39;00m\n\u001b[1;32m    305\u001b[0m \u001b[38;5;28;01mif\u001b[39;00m blob \u001b[38;5;129;01mis\u001b[39;00m \u001b[38;5;28;01mNone\u001b[39;00m:\n",
      "File \u001b[0;32m~/mambaforge/envs/glam/lib/python3.11/site-packages/google/cloud/storage/bucket.py:1375\u001b[0m, in \u001b[0;36mBucket.get_blob\u001b[0;34m(self, blob_name, client, encryption_key, generation, if_etag_match, if_etag_not_match, if_generation_match, if_generation_not_match, if_metageneration_match, if_metageneration_not_match, timeout, retry, soft_deleted, **kwargs)\u001b[0m\n\u001b[1;32m   1364\u001b[0m blob \u001b[38;5;241m=\u001b[39m Blob(\n\u001b[1;32m   1365\u001b[0m     bucket\u001b[38;5;241m=\u001b[39m\u001b[38;5;28mself\u001b[39m,\n\u001b[1;32m   1366\u001b[0m     name\u001b[38;5;241m=\u001b[39mblob_name,\n\u001b[0;32m   (...)\u001b[0m\n\u001b[1;32m   1369\u001b[0m     \u001b[38;5;241m*\u001b[39m\u001b[38;5;241m*\u001b[39mkwargs,\n\u001b[1;32m   1370\u001b[0m )\n\u001b[1;32m   1371\u001b[0m \u001b[38;5;28;01mtry\u001b[39;00m:\n\u001b[1;32m   1372\u001b[0m     \u001b[38;5;66;03m# NOTE: This will not fail immediately in a batch. However, when\u001b[39;00m\n\u001b[1;32m   1373\u001b[0m     \u001b[38;5;66;03m#       Batch.finish() is called, the resulting `NotFound` will be\u001b[39;00m\n\u001b[1;32m   1374\u001b[0m     \u001b[38;5;66;03m#       raised.\u001b[39;00m\n\u001b[0;32m-> 1375\u001b[0m     blob\u001b[38;5;241m.\u001b[39mreload(\n\u001b[1;32m   1376\u001b[0m         client\u001b[38;5;241m=\u001b[39mclient,\n\u001b[1;32m   1377\u001b[0m         timeout\u001b[38;5;241m=\u001b[39mtimeout,\n\u001b[1;32m   1378\u001b[0m         if_etag_match\u001b[38;5;241m=\u001b[39mif_etag_match,\n\u001b[1;32m   1379\u001b[0m         if_etag_not_match\u001b[38;5;241m=\u001b[39mif_etag_not_match,\n\u001b[1;32m   1380\u001b[0m         if_generation_match\u001b[38;5;241m=\u001b[39mif_generation_match,\n\u001b[1;32m   1381\u001b[0m         if_generation_not_match\u001b[38;5;241m=\u001b[39mif_generation_not_match,\n\u001b[1;32m   1382\u001b[0m         if_metageneration_match\u001b[38;5;241m=\u001b[39mif_metageneration_match,\n\u001b[1;32m   1383\u001b[0m         if_metageneration_not_match\u001b[38;5;241m=\u001b[39mif_metageneration_not_match,\n\u001b[1;32m   1384\u001b[0m         retry\u001b[38;5;241m=\u001b[39mretry,\n\u001b[1;32m   1385\u001b[0m         soft_deleted\u001b[38;5;241m=\u001b[39msoft_deleted,\n\u001b[1;32m   1386\u001b[0m     )\n\u001b[1;32m   1387\u001b[0m \u001b[38;5;28;01mexcept\u001b[39;00m NotFound:\n\u001b[1;32m   1388\u001b[0m     \u001b[38;5;28;01mreturn\u001b[39;00m \u001b[38;5;28;01mNone\u001b[39;00m\n",
      "File \u001b[0;32m~/mambaforge/envs/glam/lib/python3.11/site-packages/google/cloud/storage/_helpers.py:296\u001b[0m, in \u001b[0;36m_PropertyMixin.reload\u001b[0;34m(self, client, projection, if_etag_match, if_etag_not_match, if_generation_match, if_generation_not_match, if_metageneration_match, if_metageneration_not_match, timeout, retry, soft_deleted)\u001b[0m\n\u001b[1;32m    292\u001b[0m headers \u001b[38;5;241m=\u001b[39m \u001b[38;5;28mself\u001b[39m\u001b[38;5;241m.\u001b[39m_encryption_headers()\n\u001b[1;32m    293\u001b[0m _add_etag_match_headers(\n\u001b[1;32m    294\u001b[0m     headers, if_etag_match\u001b[38;5;241m=\u001b[39mif_etag_match, if_etag_not_match\u001b[38;5;241m=\u001b[39mif_etag_not_match\n\u001b[1;32m    295\u001b[0m )\n\u001b[0;32m--> 296\u001b[0m api_response \u001b[38;5;241m=\u001b[39m client\u001b[38;5;241m.\u001b[39m_get_resource(\n\u001b[1;32m    297\u001b[0m     \u001b[38;5;28mself\u001b[39m\u001b[38;5;241m.\u001b[39mpath,\n\u001b[1;32m    298\u001b[0m     query_params\u001b[38;5;241m=\u001b[39mquery_params,\n\u001b[1;32m    299\u001b[0m     headers\u001b[38;5;241m=\u001b[39mheaders,\n\u001b[1;32m    300\u001b[0m     timeout\u001b[38;5;241m=\u001b[39mtimeout,\n\u001b[1;32m    301\u001b[0m     retry\u001b[38;5;241m=\u001b[39mretry,\n\u001b[1;32m    302\u001b[0m     _target_object\u001b[38;5;241m=\u001b[39m\u001b[38;5;28mself\u001b[39m,\n\u001b[1;32m    303\u001b[0m )\n\u001b[1;32m    304\u001b[0m \u001b[38;5;28mself\u001b[39m\u001b[38;5;241m.\u001b[39m_set_properties(api_response)\n",
      "File \u001b[0;32m~/mambaforge/envs/glam/lib/python3.11/site-packages/google/cloud/storage/client.py:493\u001b[0m, in \u001b[0;36mClient._get_resource\u001b[0;34m(self, path, query_params, headers, timeout, retry, _target_object)\u001b[0m\n\u001b[1;32m    437\u001b[0m \u001b[38;5;28;01mdef\u001b[39;00m \u001b[38;5;21m_get_resource\u001b[39m(\n\u001b[1;32m    438\u001b[0m     \u001b[38;5;28mself\u001b[39m,\n\u001b[1;32m    439\u001b[0m     path,\n\u001b[0;32m   (...)\u001b[0m\n\u001b[1;32m    444\u001b[0m     _target_object\u001b[38;5;241m=\u001b[39m\u001b[38;5;28;01mNone\u001b[39;00m,\n\u001b[1;32m    445\u001b[0m ):\n\u001b[1;32m    446\u001b[0m \u001b[38;5;250m    \u001b[39m\u001b[38;5;124;03m\"\"\"Helper for bucket / blob methods making API 'GET' calls.\u001b[39;00m\n\u001b[1;32m    447\u001b[0m \n\u001b[1;32m    448\u001b[0m \u001b[38;5;124;03m    Args:\u001b[39;00m\n\u001b[0;32m   (...)\u001b[0m\n\u001b[1;32m    491\u001b[0m \u001b[38;5;124;03m            If the bucket is not found.\u001b[39;00m\n\u001b[1;32m    492\u001b[0m \u001b[38;5;124;03m    \"\"\"\u001b[39;00m\n\u001b[0;32m--> 493\u001b[0m     \u001b[38;5;28;01mreturn\u001b[39;00m \u001b[38;5;28mself\u001b[39m\u001b[38;5;241m.\u001b[39m_connection\u001b[38;5;241m.\u001b[39mapi_request(\n\u001b[1;32m    494\u001b[0m         method\u001b[38;5;241m=\u001b[39m\u001b[38;5;124m\"\u001b[39m\u001b[38;5;124mGET\u001b[39m\u001b[38;5;124m\"\u001b[39m,\n\u001b[1;32m    495\u001b[0m         path\u001b[38;5;241m=\u001b[39mpath,\n\u001b[1;32m    496\u001b[0m         query_params\u001b[38;5;241m=\u001b[39mquery_params,\n\u001b[1;32m    497\u001b[0m         headers\u001b[38;5;241m=\u001b[39mheaders,\n\u001b[1;32m    498\u001b[0m         timeout\u001b[38;5;241m=\u001b[39mtimeout,\n\u001b[1;32m    499\u001b[0m         retry\u001b[38;5;241m=\u001b[39mretry,\n\u001b[1;32m    500\u001b[0m         _target_object\u001b[38;5;241m=\u001b[39m_target_object,\n\u001b[1;32m    501\u001b[0m     )\n",
      "File \u001b[0;32m~/mambaforge/envs/glam/lib/python3.11/site-packages/google/cloud/storage/_http.py:90\u001b[0m, in \u001b[0;36mConnection.api_request\u001b[0;34m(self, *args, **kwargs)\u001b[0m\n\u001b[1;32m     88\u001b[0m     \u001b[38;5;28;01mif\u001b[39;00m retry:\n\u001b[1;32m     89\u001b[0m         call \u001b[38;5;241m=\u001b[39m retry(call)\n\u001b[0;32m---> 90\u001b[0m \u001b[38;5;28;01mreturn\u001b[39;00m call()\n",
      "File \u001b[0;32m~/mambaforge/envs/glam/lib/python3.11/site-packages/google/api_core/retry/retry_unary.py:293\u001b[0m, in \u001b[0;36mRetry.__call__.<locals>.retry_wrapped_func\u001b[0;34m(*args, **kwargs)\u001b[0m\n\u001b[1;32m    289\u001b[0m target \u001b[38;5;241m=\u001b[39m functools\u001b[38;5;241m.\u001b[39mpartial(func, \u001b[38;5;241m*\u001b[39margs, \u001b[38;5;241m*\u001b[39m\u001b[38;5;241m*\u001b[39mkwargs)\n\u001b[1;32m    290\u001b[0m sleep_generator \u001b[38;5;241m=\u001b[39m exponential_sleep_generator(\n\u001b[1;32m    291\u001b[0m     \u001b[38;5;28mself\u001b[39m\u001b[38;5;241m.\u001b[39m_initial, \u001b[38;5;28mself\u001b[39m\u001b[38;5;241m.\u001b[39m_maximum, multiplier\u001b[38;5;241m=\u001b[39m\u001b[38;5;28mself\u001b[39m\u001b[38;5;241m.\u001b[39m_multiplier\n\u001b[1;32m    292\u001b[0m )\n\u001b[0;32m--> 293\u001b[0m \u001b[38;5;28;01mreturn\u001b[39;00m retry_target(\n\u001b[1;32m    294\u001b[0m     target,\n\u001b[1;32m    295\u001b[0m     \u001b[38;5;28mself\u001b[39m\u001b[38;5;241m.\u001b[39m_predicate,\n\u001b[1;32m    296\u001b[0m     sleep_generator,\n\u001b[1;32m    297\u001b[0m     timeout\u001b[38;5;241m=\u001b[39m\u001b[38;5;28mself\u001b[39m\u001b[38;5;241m.\u001b[39m_timeout,\n\u001b[1;32m    298\u001b[0m     on_error\u001b[38;5;241m=\u001b[39mon_error,\n\u001b[1;32m    299\u001b[0m )\n",
      "File \u001b[0;32m~/mambaforge/envs/glam/lib/python3.11/site-packages/google/api_core/retry/retry_unary.py:153\u001b[0m, in \u001b[0;36mretry_target\u001b[0;34m(target, predicate, sleep_generator, timeout, on_error, exception_factory, **kwargs)\u001b[0m\n\u001b[1;32m    149\u001b[0m \u001b[38;5;66;03m# pylint: disable=broad-except\u001b[39;00m\n\u001b[1;32m    150\u001b[0m \u001b[38;5;66;03m# This function explicitly must deal with broad exceptions.\u001b[39;00m\n\u001b[1;32m    151\u001b[0m \u001b[38;5;28;01mexcept\u001b[39;00m \u001b[38;5;167;01mException\u001b[39;00m \u001b[38;5;28;01mas\u001b[39;00m exc:\n\u001b[1;32m    152\u001b[0m     \u001b[38;5;66;03m# defer to shared logic for handling errors\u001b[39;00m\n\u001b[0;32m--> 153\u001b[0m     _retry_error_helper(\n\u001b[1;32m    154\u001b[0m         exc,\n\u001b[1;32m    155\u001b[0m         deadline,\n\u001b[1;32m    156\u001b[0m         sleep,\n\u001b[1;32m    157\u001b[0m         error_list,\n\u001b[1;32m    158\u001b[0m         predicate,\n\u001b[1;32m    159\u001b[0m         on_error,\n\u001b[1;32m    160\u001b[0m         exception_factory,\n\u001b[1;32m    161\u001b[0m         timeout,\n\u001b[1;32m    162\u001b[0m     )\n\u001b[1;32m    163\u001b[0m     \u001b[38;5;66;03m# if exception not raised, sleep before next attempt\u001b[39;00m\n\u001b[1;32m    164\u001b[0m     time\u001b[38;5;241m.\u001b[39msleep(sleep)\n",
      "File \u001b[0;32m~/mambaforge/envs/glam/lib/python3.11/site-packages/google/api_core/retry/retry_base.py:221\u001b[0m, in \u001b[0;36m_retry_error_helper\u001b[0;34m(exc, deadline, next_sleep, error_list, predicate_fn, on_error_fn, exc_factory_fn, original_timeout)\u001b[0m\n\u001b[1;32m    215\u001b[0m \u001b[38;5;28;01mif\u001b[39;00m deadline \u001b[38;5;129;01mis\u001b[39;00m \u001b[38;5;129;01mnot\u001b[39;00m \u001b[38;5;28;01mNone\u001b[39;00m \u001b[38;5;129;01mand\u001b[39;00m time\u001b[38;5;241m.\u001b[39mmonotonic() \u001b[38;5;241m+\u001b[39m next_sleep \u001b[38;5;241m>\u001b[39m deadline:\n\u001b[1;32m    216\u001b[0m     final_exc, source_exc \u001b[38;5;241m=\u001b[39m exc_factory_fn(\n\u001b[1;32m    217\u001b[0m         error_list,\n\u001b[1;32m    218\u001b[0m         RetryFailureReason\u001b[38;5;241m.\u001b[39mTIMEOUT,\n\u001b[1;32m    219\u001b[0m         original_timeout,\n\u001b[1;32m    220\u001b[0m     )\n\u001b[0;32m--> 221\u001b[0m     \u001b[38;5;28;01mraise\u001b[39;00m final_exc \u001b[38;5;28;01mfrom\u001b[39;00m \u001b[38;5;21;01msource_exc\u001b[39;00m\n\u001b[1;32m    222\u001b[0m _LOGGER\u001b[38;5;241m.\u001b[39mdebug(\n\u001b[1;32m    223\u001b[0m     \u001b[38;5;124m\"\u001b[39m\u001b[38;5;124mRetrying due to \u001b[39m\u001b[38;5;132;01m{}\u001b[39;00m\u001b[38;5;124m, sleeping \u001b[39m\u001b[38;5;132;01m{:.1f}\u001b[39;00m\u001b[38;5;124ms ...\u001b[39m\u001b[38;5;124m\"\u001b[39m\u001b[38;5;241m.\u001b[39mformat(error_list[\u001b[38;5;241m-\u001b[39m\u001b[38;5;241m1\u001b[39m], next_sleep)\n\u001b[1;32m    224\u001b[0m )\n",
      "\u001b[0;31mRetryError\u001b[0m: Timeout of 120.0s exceeded, last exception: HTTPSConnectionPool(host='storage.googleapis.com', port=443): Max retries exceeded with url: /storage/v1/b/pinder/o/2024-02%2Fpdbs%2F5u9f__RA1_P0A7W1--5u9f__D1_P36675.pdb?projection=noAcl&prettyPrint=false (Caused by ProxyError('Unable to connect to proxy', OSError('Tunnel connection failed: 403 Forbidden')))"
     ]
    }
   ],
   "source": [
    "seq_R, seq_L = get_sequences(\"5u9f__RA1_P0A7W1--5u9f__D1_P36675\")\n"
   ]
  },
  {
   "cell_type": "code",
   "execution_count": null,
   "id": "831a25d7-3f5e-42af-9e3c-dda4c6a69686",
   "metadata": {},
   "outputs": [],
   "source": [
    "print(seq_R)"
   ]
  }
 ],
 "metadata": {
  "kernelspec": {
   "display_name": "glam",
   "language": "python",
   "name": "glam"
  },
  "language_info": {
   "codemirror_mode": {
    "name": "ipython",
    "version": 3
   },
   "file_extension": ".py",
   "mimetype": "text/x-python",
   "name": "python",
   "nbconvert_exporter": "python",
   "pygments_lexer": "ipython3",
   "version": "3.11.11"
  }
 },
 "nbformat": 4,
 "nbformat_minor": 5
}
